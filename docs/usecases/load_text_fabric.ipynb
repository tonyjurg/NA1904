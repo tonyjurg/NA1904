{
 "cells": [
  {
   "cell_type": "markdown",
   "id": "bec25f1a",
   "metadata": {},
   "source": [
    "# Running Text-Fabric (Nestle1904 XML nodes)\n",
    "\n",
    "Basic instructions on loading the Text-Fabric and start using it on your system."
   ]
  },
  {
   "cell_type": "markdown",
   "id": "fa7f85d5",
   "metadata": {},
   "source": [
    "## Table of content <a class=\"anchor\" id=\"TOC\">\n",
    "    \n",
    "### Loading program and dataset\n",
    "* [Step 1: Install Text-Fabric (if not yet installed)](#first-bullet)\n",
    "* [Step 2: Raise rate limit on Github](#second-bullet)\n",
    "* [Step 3: Load Text Fabric code](#third-bullet)\n",
    "* [Step 4: Load app and data](#fourth-bullet)\n",
    "    \n",
    "### Some basic usage examples\n",
    "* [Example 1: ](#fifth-bullet)"
   ]
  },
  {
   "cell_type": "markdown",
   "id": "d5a6e05a",
   "metadata": {},
   "source": [
    "## Loading program and dataset\n",
    "\n",
    "### Step 1: Install Text-Fabric (if not yet installed) <a class=\"anchor\" id=\"first-bullet\"></a>\n",
    "##### [back to TOC](#TOC)"
   ]
  },
  {
   "cell_type": "markdown",
   "id": "f71d3a83",
   "metadata": {},
   "source": [
    "#### Python\n",
    "\n",
    "You need to have Python on your system. Most systems have it out of the box,\n",
    "but alas, that is python2 and we need at least python **3.6**.\n",
    "\n",
    "Install it from [python.org](https://www.python.org) or from\n",
    "[Anaconda](https://www.anaconda.com/products/distribution).\n",
    "\n",
    "#### TF itself\n",
    "\n",
    "```\n",
    "pip3 install text-fabric\n",
    "```\n",
    "\n",
    "#### When using Jupyter notebook\n",
    "\n",
    "You need [Jupyter](http://jupyter.org) or a platform like [Anaconda](https://www.anaconda.com/products/distribution) which includes Jupyter.\n",
    "\n",
    "If it is not already installed:\n",
    "\n",
    "```\n",
    "pip3 install jupyter\n",
    "```"
   ]
  },
  {
   "cell_type": "markdown",
   "id": "8684bf30",
   "metadata": {},
   "source": [
    "### Step 2: Raise rate limit on Github <a class=\"anchor\" id=\"second-bullet\"></a>\n",
    "##### [back to TOC](#TOC)\n",
    "\n",
    "It may be required to increase rate limit for GitHub. [See instructions](https://annotation.github.io/text-fabric/tf/advanced/repo.html) on aquiring and setting the GHPERS variable. \n",
    "See [here](https://www.howtogeek.com/789660/how-to-use-windows-cmd-environment-variables/#autotoc_anchor_2) if you want to set the varibale on windows using the command prompt."
   ]
  },
  {
   "cell_type": "markdown",
   "id": "edadeba4",
   "metadata": {},
   "source": [
    "### Step 3: Load TextFabric code <a class=\"anchor\" id=\"third-bullet\"></a>\n",
    "##### [back to TOC](#TOC)"
   ]
  },
  {
   "cell_type": "code",
   "execution_count": 1,
   "id": "a5bc2a5d",
   "metadata": {},
   "outputs": [],
   "source": [
    "%load_ext autoreload\n",
    "%autoreload 2"
   ]
  },
  {
   "cell_type": "code",
   "execution_count": 2,
   "id": "31f3bbde",
   "metadata": {},
   "outputs": [],
   "source": [
    "# Loading the New Testament TextFabric code\n",
    "\n",
    "from tf.fabric import Fabric\n",
    "from tf.app import use"
   ]
  },
  {
   "cell_type": "markdown",
   "id": "f8a57edd-2c89-406a-873f-e7f71a5539c3",
   "metadata": {},
   "source": [
    "### Step 4: Load app and data <a class=\"anchor\" id=\"fourth-bullet\"></a>\n",
    "##### [back to TOC](#TOC)"
   ]
  },
  {
   "cell_type": "code",
   "execution_count": null,
   "id": "b8574f48",
   "metadata": {},
   "outputs": [
    {
     "data": {
      "text/markdown": [
       "**Locating corpus resources ...**"
      ],
      "text/plain": [
       "<IPython.core.display.Markdown object>"
      ]
     },
     "metadata": {},
     "output_type": "display_data"
    },
    {
     "data": {
      "text/html": [
       "<b title=\"local github\">app:</b> <span title=\"repo clone offline under C:/Users/tonyj/github\">~/github/tonyjurg/Nestle1904/app</span>"
      ],
      "text/plain": [
       "<IPython.core.display.HTML object>"
      ]
     },
     "metadata": {},
     "output_type": "display_data"
    },
    {
     "name": "stdout",
     "output_type": "stream",
     "text": [
      "The requested data is not available offline\n",
      "\t~/text-fabric-data/github/tonyjurg/Nestle1904/tf/1904 not found\n"
     ]
    },
    {
     "data": {
      "text/html": [
       "Status: latest release online <b>releases</b> versus <b>None</b> locally"
      ],
      "text/plain": [
       "<IPython.core.display.HTML object>"
      ]
     },
     "metadata": {},
     "output_type": "display_data"
    },
    {
     "data": {
      "text/html": [
       "downloading app, main data and requested additions ..."
      ],
      "text/plain": [
       "<IPython.core.display.HTML object>"
      ]
     },
     "metadata": {},
     "output_type": "display_data"
    },
    {
     "name": "stderr",
     "output_type": "stream",
     "text": [
      "File is not a zip file\n",
      "\tcould not save corpus data to ~/text-fabric-data/github"
     ]
    },
    {
     "name": "stdout",
     "output_type": "stream",
     "text": [
      "rate limit is 5000 requests per hour, with 4944 left for this hour\n",
      "\tconnecting to online GitHub repo tonyjurg/Nestle1904 ... connected\n",
      "\tcannot find releases\n",
      "\tcannot find releases\n",
      "\ttf/1904/.nojekyll...downloaded\n",
      "\ttf/1904/.tf...directory\n",
      "\t\ttf/1904/.tf/3...directory\n",
      "\t\t\ttf/1904/.tf/3/__boundary__.tfx...excluded\n",
      "\t\t\ttf/1904/.tf/3/__characters__.tfx...excluded\n",
      "\t\t\ttf/1904/.tf/3/__levDown__.tfx...excluded\n",
      "\t\t\ttf/1904/.tf/3/__levUp__.tfx...excluded\n",
      "\t\t\ttf/1904/.tf/3/__levels__.tfx...excluded\n",
      "\t\t\ttf/1904/.tf/3/__order__.tfx...excluded\n",
      "\t\t\ttf/1904/.tf/3/__rank__.tfx...excluded\n",
      "\t\t\ttf/1904/.tf/3/__sections__.tfx...excluded\n",
      "\t\t\ttf/1904/.tf/3/__structure__.tfx...excluded\n",
      "\t\t\ttf/1904/.tf/3/book.tfx...excluded\n",
      "\t\t\ttf/1904/.tf/3/book_long.tfx...excluded\n",
      "\t\t\ttf/1904/.tf/3/book_short.tfx...excluded\n",
      "\t\t\ttf/1904/.tf/3/booknum.tfx...excluded\n",
      "\t\t\ttf/1904/.tf/3/case.tfx...excluded\n",
      "\t\t\ttf/1904/.tf/3/chapter.tfx...excluded\n",
      "\t\t\ttf/1904/.tf/3/clause.tfx...excluded\n",
      "\t\t\ttf/1904/.tf/3/clausetype.tfx...excluded\n",
      "\t\t\ttf/1904/.tf/3/degree.tfx...excluded\n",
      "\t\t\ttf/1904/.tf/3/formaltag.tfx...excluded\n",
      "\t\t\ttf/1904/.tf/3/functionaltag.tfx...excluded\n",
      "\t\t\ttf/1904/.tf/3/gloss_EN.tfx...excluded\n",
      "\t\t\ttf/1904/.tf/3/gn.tfx...excluded\n",
      "\t\t\ttf/1904/.tf/3/lemma.tfx...excluded\n",
      "\t\t\ttf/1904/.tf/3/lex_dom.tfx...excluded\n",
      "\t\t\ttf/1904/.tf/3/ln.tfx...excluded\n",
      "\t\t\ttf/1904/.tf/3/monad.tfx...excluded\n",
      "\t\t\ttf/1904/.tf/3/mood.tfx...excluded\n",
      "\t\t\ttf/1904/.tf/3/nodeID.tfx...excluded\n",
      "\t\t\ttf/1904/.tf/3/normalized.tfx...excluded\n",
      "\t\t\ttf/1904/.tf/3/nu.tfx...excluded\n",
      "\t\t\ttf/1904/.tf/3/number.tfx...excluded\n",
      "\t\t\ttf/1904/.tf/3/orig_order.tfx...excluded\n",
      "\t\t\ttf/1904/.tf/3/oslots.tfx...excluded\n",
      "\t\t\ttf/1904/.tf/3/otype.tfx...excluded\n",
      "\t\t\ttf/1904/.tf/3/person.tfx...excluded\n",
      "\t\t\ttf/1904/.tf/3/phrase.tfx...excluded\n",
      "\t\t\ttf/1904/.tf/3/phrasefunction.tfx...excluded\n",
      "\t\t\ttf/1904/.tf/3/phrasefunction_long.tfx...excluded\n",
      "\t\t\ttf/1904/.tf/3/phrasetype.tfx...excluded\n",
      "\t\t\ttf/1904/.tf/3/reference.tfx...excluded\n",
      "\t\t\ttf/1904/.tf/3/sentence.tfx...excluded\n",
      "\t\t\ttf/1904/.tf/3/sentencetype.tfx...excluded\n",
      "\t\t\ttf/1904/.tf/3/sp.tfx...excluded\n",
      "\t\t\ttf/1904/.tf/3/sp_full.tfx...excluded\n",
      "\t\t\ttf/1904/.tf/3/strongs.tfx...excluded\n",
      "\t\t\ttf/1904/.tf/3/subj_ref.tfx...excluded\n",
      "\t\t\ttf/1904/.tf/3/tense.tfx...excluded\n",
      "\t\t\ttf/1904/.tf/3/type.tfx...excluded\n",
      "\t\t\ttf/1904/.tf/3/verse.tfx...excluded\n",
      "\t\t\ttf/1904/.tf/3/voice.tfx...excluded\n",
      "\t\t\ttf/1904/.tf/3/word.tfx...excluded\n",
      "\ttf/1904/README.md...downloaded\n",
      "\ttf/1904/__checkout__.txt...downloaded\n",
      "\ttf/1904/book.tf...downloaded\n",
      "\ttf/1904/book_long.tf...downloaded\n",
      "\ttf/1904/book_short.tf...downloaded\n",
      "\ttf/1904/booknum.tf...downloaded\n",
      "\ttf/1904/case.tf...downloaded\n",
      "\ttf/1904/chapter.tf...downloaded\n",
      "\ttf/1904/clause.tf...downloaded\n",
      "\ttf/1904/clausetype.tf...downloaded\n",
      "\ttf/1904/degree.tf...downloaded\n",
      "\ttf/1904/formaltag.tf...downloaded\n",
      "\ttf/1904/functionaltag.tf...downloaded\n",
      "\ttf/1904/gloss_EN.tf...downloaded\n",
      "\ttf/1904/gn.tf...downloaded\n",
      "\ttf/1904/lemma.tf...downloaded\n",
      "\ttf/1904/lex_dom.tf...downloaded\n",
      "\ttf/1904/ln.tf...downloaded\n",
      "\ttf/1904/monad.tf...downloaded\n",
      "\ttf/1904/mood.tf...downloaded\n",
      "\ttf/1904/nodeID.tf...downloaded\n",
      "\ttf/1904/normalized.tf...downloaded\n",
      "\ttf/1904/nu.tf...downloaded\n",
      "\ttf/1904/number.tf...downloaded\n",
      "\ttf/1904/orig_order.tf...downloaded\n",
      "\ttf/1904/oslots.tf...downloaded\n",
      "\ttf/1904/otext.tf...downloaded\n",
      "\ttf/1904/otype.tf...downloaded\n",
      "\ttf/1904/person.tf...downloaded\n",
      "\ttf/1904/phrase.tf...downloaded\n",
      "\ttf/1904/phrasefunction.tf...downloaded\n",
      "\ttf/1904/phrasefunction_long.tf...downloaded\n",
      "\ttf/1904/phrasetype.tf...downloaded\n",
      "\ttf/1904/reference.tf...downloaded\n",
      "\ttf/1904/sentence.tf...downloaded\n",
      "\ttf/1904/sentencetype.tf...downloaded\n",
      "\ttf/1904/sp.tf...downloaded\n",
      "\ttf/1904/sp_full.tf...downloaded\n",
      "\ttf/1904/strongs.tf...downloaded\n",
      "\ttf/1904/subj_ref.tf...downloaded\n",
      "\ttf/1904/tense.tf...downloaded\n",
      "\ttf/1904/type.tf...downloaded\n",
      "\ttf/1904/verse.tf...downloaded\n",
      "\ttf/1904/voice.tf...downloaded\n",
      "\ttf/1904/word.tf...downloaded\n",
      "\tOK\n"
     ]
    },
    {
     "data": {
      "text/html": [
       "<b title=\"latest commit\">data:</b> <span title=\"#dd7c5978299e53b50d8cadefc290e160f873a63b\">~/text-fabric-data/github/tonyjurg/Nestle1904/tf/1904</span>"
      ],
      "text/plain": [
       "<IPython.core.display.HTML object>"
      ]
     },
     "metadata": {},
     "output_type": "display_data"
    },
    {
     "name": "stdout",
     "output_type": "stream",
     "text": [
      "   |     0.20s T otype                from ~/text-fabric-data/github/tonyjurg/Nestle1904/tf/1904\n",
      "   |     2.00s T oslots               from ~/text-fabric-data/github/tonyjurg/Nestle1904/tf/1904\n",
      "   |     0.51s T verse                from ~/text-fabric-data/github/tonyjurg/Nestle1904/tf/1904\n",
      "   |     0.48s T chapter              from ~/text-fabric-data/github/tonyjurg/Nestle1904/tf/1904\n",
      "   |     0.67s T word                 from ~/text-fabric-data/github/tonyjurg/Nestle1904/tf/1904\n",
      "   |     0.01s T book                 from ~/text-fabric-data/github/tonyjurg/Nestle1904/tf/1904\n",
      "   |      |     0.05s C __levels__           from otype, oslots, otext\n",
      "   |      |     1.51s C __order__            from otype, oslots, __levels__\n",
      "   |      |     0.06s C __rank__             from otype, __order__\n"
     ]
    }
   ],
   "source": [
    "# load the app and data\n",
    "NA = use (\"tonyjurg/Nestle1904:clone\", hoist=globals())"
   ]
  },
  {
   "cell_type": "markdown",
   "id": "63ab413a",
   "metadata": {},
   "source": [
    "# Some basic usage examples\n",
    "##### [back to TOC](#TOC)\n",
    "\n",
    "### Example 1 (show all object phrases in clauses)\n",
    "\n",
    "The following example will query (and indicate) the phrases with function 'O' (=Object). This is done by selecting  versed containing the value 'O' for feature 'phrasefunction' belonging to node type 'phrase'. See also the [feature description of 'phrasefunction'](https://tonyjurg.github.io/Nestle1904/features/phrasefunction.html)."
   ]
  },
  {
   "cell_type": "code",
   "execution_count": 16,
   "id": "adc48de9",
   "metadata": {},
   "outputs": [
    {
     "name": "stdout",
     "output_type": "stream",
     "text": [
      "  0.05s 51 results\n"
     ]
    },
    {
     "data": {
      "text/html": [
       "<p><b>verse</b> <i>1</i>"
      ],
      "text/plain": [
       "<IPython.core.display.HTML object>"
      ]
     },
     "metadata": {},
     "output_type": "display_data"
    },
    {
     "data": {
      "text/html": [
       "<div class=\"tfsechead \"><span class=\"ltr\"><a target=\"_blank\" href=\"https://bibleol.3bmoodle.dk/text/show_text/nestle1904/Matthew/1/2\" sec=\"Matthew 1:2\">Matthew 1:2</a></span></div><div class=\" children\"><div class=\"contnr c3    \" ><div class=\"lbl c3  \" ><span class=\"nd\">verse </span></div><div class=\"children hor wrap \"><div class=\"contnr c1    \" ><div class=\"lbl c1  \" ><span class=\"nd\">clause </span> <span class=\"\">#<span title=\"clause\">2</span></span></div><div class=\"features\"><span class=\"clausetype xft\" ><span class=\"f\">clausetype=</span>S-V-O</span></div><div class=\"children hor wrap \"><div class=\"contnr c1    \" ><div class=\"lbl c1  \" ><span class=\"nd\">phrase </span> <span class=\"\">#<span title=\"phrase\">2</span></span></div><div class=\"features\"><span class=\"phrasefunction xft\" ><span class=\"f\">phrasefunction=</span>S</span></div><div class=\"children hor wrap \"><div class=\"contnr c0 trm   \" ><div class=\"lbl c0 trm \" ><span class=\"txtu\">Ἀβραὰμ</span></div><div class=\"features\"><span class=\"sp xft\" ><span class=\"f\">sp=</span>noun</span></div></div></div></div><div class=\"contnr c1    \" ><div class=\"lbl c1  \" ><span class=\"nd\">phrase </span> <span class=\"\">#<span title=\"phrase\">3</span></span></div><div class=\"features\"><span class=\"phrasefunction xft\" ><span class=\"f\">phrasefunction=</span>V</span></div><div class=\"children hor wrap \"><div class=\"contnr c0 trm   \" ><div class=\"lbl c0 trm \" ><span class=\"txtu\">ἐγέννησεν</span></div><div class=\"features\"><span class=\"sp xft\" ><span class=\"f\">sp=</span>verb</span></div></div></div></div><div class=\"contnr c1    hl\" ><div class=\"lbl c1  hl\" ><span class=\"nd\">phrase </span> <span class=\"\">#<span title=\"phrase\">4</span></span></div><div class=\"features\"><span class=\"phrasefunction xft\" ><span class=\"f\">phrasefunction=</span>O</span></div><div class=\"children hor wrap \"><div class=\"contnr c0 trm   \" ><div class=\"lbl c0 trm \" ><span class=\"txtu\">τὸν</span></div><div class=\"features\"><span class=\"sp xft\" ><span class=\"f\">sp=</span>det</span></div></div><div class=\"contnr c0 trm   \" ><div class=\"lbl c0 trm \" ><span class=\"txtu\">Ἰσαάκ,</span></div><div class=\"features\"><span class=\"sp xft\" ><span class=\"f\">sp=</span>noun</span></div></div></div></div></div></div><div class=\"contnr c1    \" ><div class=\"lbl c1  \" ><span class=\"nd\">clause </span> <span class=\"\">#<span title=\"clause\">3</span></span></div><div class=\"features\"><span class=\"clausetype xft\" ><span class=\"f\">clausetype=</span>S-V-O</span></div><div class=\"children hor wrap \"><div class=\"contnr c1    \" ><div class=\"lbl c1  \" ><span class=\"nd\">phrase </span> <span class=\"\">#<span title=\"phrase\">5</span></span></div><div class=\"features\"><span class=\"phrasefunction xft\" ><span class=\"f\">phrasefunction=</span>S</span></div><div class=\"children hor wrap \"><div class=\"contnr c0 trm   \" ><div class=\"lbl c0 trm \" ><span class=\"txtu\">Ἰσαὰκ</span></div><div class=\"features\"><span class=\"sp xft\" ><span class=\"f\">sp=</span>noun</span></div></div><div class=\"contnr c0 trm   \" ><div class=\"lbl c0 trm \" ><span class=\"txtu\">δὲ</span></div><div class=\"features\"><span class=\"sp xft\" ><span class=\"f\">sp=</span>conj</span></div></div></div></div><div class=\"contnr c1    \" ><div class=\"lbl c1  \" ><span class=\"nd\">phrase </span> <span class=\"\">#<span title=\"phrase\">6</span></span></div><div class=\"features\"><span class=\"phrasefunction xft\" ><span class=\"f\">phrasefunction=</span>V</span></div><div class=\"children hor wrap \"><div class=\"contnr c0 trm   \" ><div class=\"lbl c0 trm \" ><span class=\"txtu\">ἐγέννησεν</span></div><div class=\"features\"><span class=\"sp xft\" ><span class=\"f\">sp=</span>verb</span></div></div></div></div><div class=\"contnr c1    hl\"  style=\"background-color: pink;\" ><div class=\"lbl c1  hl\"  style=\"background-color: pink;\" ><span class=\"nd\">phrase </span> <span class=\"\">#<span title=\"phrase\">7</span></span></div><div class=\"features\"><span class=\"phrasefunction xft\" ><span class=\"f\">phrasefunction=</span>O</span></div><div class=\"children hor wrap \"><div class=\"contnr c0 trm   \" ><div class=\"lbl c0 trm \" ><span class=\"txtu\">τὸν</span></div><div class=\"features\"><span class=\"sp xft\" ><span class=\"f\">sp=</span>det</span></div></div><div class=\"contnr c0 trm   \" ><div class=\"lbl c0 trm \" ><span class=\"txtu\">Ἰακώβ,</span></div><div class=\"features\"><span class=\"sp xft\" ><span class=\"f\">sp=</span>noun</span></div></div></div></div></div></div><div class=\"contnr c1    \" ><div class=\"lbl c1  \" ><span class=\"nd\">clause </span> <span class=\"\">#<span title=\"clause\">4</span></span></div><div class=\"features\"><span class=\"clausetype xft\" ><span class=\"f\">clausetype=</span>S-V-O-ADV</span></div><div class=\"children hor wrap \"><div class=\"contnr c1    \" ><div class=\"lbl c1  \" ><span class=\"nd\">phrase </span> <span class=\"\">#<span title=\"phrase\">8</span></span></div><div class=\"features\"><span class=\"phrasefunction xft\" ><span class=\"f\">phrasefunction=</span>S</span></div><div class=\"children hor wrap \"><div class=\"contnr c0 trm   \" ><div class=\"lbl c0 trm \" ><span class=\"txtu\">Ἰακὼβ</span></div><div class=\"features\"><span class=\"sp xft\" ><span class=\"f\">sp=</span>noun</span></div></div><div class=\"contnr c0 trm   \" ><div class=\"lbl c0 trm \" ><span class=\"txtu\">δὲ</span></div><div class=\"features\"><span class=\"sp xft\" ><span class=\"f\">sp=</span>conj</span></div></div></div></div><div class=\"contnr c1    \" ><div class=\"lbl c1  \" ><span class=\"nd\">phrase </span> <span class=\"\">#<span title=\"phrase\">9</span></span></div><div class=\"features\"><span class=\"phrasefunction xft\" ><span class=\"f\">phrasefunction=</span>V</span></div><div class=\"children hor wrap \"><div class=\"contnr c0 trm   \" ><div class=\"lbl c0 trm \" ><span class=\"txtu\">ἐγέννησεν</span></div><div class=\"features\"><span class=\"sp xft\" ><span class=\"f\">sp=</span>verb</span></div></div></div></div><div class=\"contnr c1    hl\" ><div class=\"lbl c1  hl\" ><span class=\"nd\">phrase </span> <span class=\"\">#<span title=\"phrase\">10</span></span></div><div class=\"features\"><span class=\"phrasefunction xft\" ><span class=\"f\">phrasefunction=</span>O</span></div><div class=\"children hor wrap \"><div class=\"contnr c0 trm   \" ><div class=\"lbl c0 trm \" ><span class=\"txtu\">τὸν</span></div><div class=\"features\"><span class=\"sp xft\" ><span class=\"f\">sp=</span>det</span></div></div><div class=\"contnr c0 trm   \" ><div class=\"lbl c0 trm \" ><span class=\"txtu\">Ἰούδαν</span></div><div class=\"features\"><span class=\"sp xft\" ><span class=\"f\">sp=</span>noun</span></div></div><div class=\"contnr c0 trm   \" ><div class=\"lbl c0 trm \" ><span class=\"txtu\">καὶ</span></div><div class=\"features\"><span class=\"sp xft\" ><span class=\"f\">sp=</span>conj</span></div></div><div class=\"contnr c0 trm   \" ><div class=\"lbl c0 trm \" ><span class=\"txtu\">τοὺς</span></div><div class=\"features\"><span class=\"sp xft\" ><span class=\"f\">sp=</span>det</span></div></div><div class=\"contnr c0 trm   \" ><div class=\"lbl c0 trm \" ><span class=\"txtu\">ἀδελφοὺς</span></div><div class=\"features\"><span class=\"sp xft\" ><span class=\"f\">sp=</span>noun</span></div></div><div class=\"contnr c0 trm   \" ><div class=\"lbl c0 trm \" ><span class=\"txtu\">αὐτοῦ,</span></div><div class=\"features\"><span class=\"sp xft\" ><span class=\"f\">sp=</span>pron</span></div></div></div></div></div></div></div></div></div>"
      ],
      "text/plain": [
       "<IPython.core.display.HTML object>"
      ]
     },
     "metadata": {},
     "output_type": "display_data"
    },
    {
     "data": {
      "text/html": [
       "<p><b>verse</b> <i>2</i>"
      ],
      "text/plain": [
       "<IPython.core.display.HTML object>"
      ]
     },
     "metadata": {},
     "output_type": "display_data"
    },
    {
     "data": {
      "text/html": [
       "<div class=\"tfsechead \"><span class=\"ltr\"><a target=\"_blank\" href=\"https://bibleol.3bmoodle.dk/text/show_text/nestle1904/Matthew/1/3\" sec=\"Matthew 1:3\">Matthew 1:3</a></span></div><div class=\" children\"><div class=\"contnr c3    \" ><div class=\"lbl c3  \" ><span class=\"nd\">verse </span></div><div class=\"children hor wrap \"><div class=\"contnr c1    \" ><div class=\"lbl c1  \" ><span class=\"nd\">clause </span> <span class=\"\">#<span title=\"clause\">5</span></span></div><div class=\"features\"><span class=\"clausetype xft\" ><span class=\"f\">clausetype=</span>S-V-O</span></div><div class=\"children hor wrap \"><div class=\"contnr c1    \" ><div class=\"lbl c1  \" ><span class=\"nd\">phrase </span> <span class=\"\">#<span title=\"phrase\">11</span></span></div><div class=\"features\"><span class=\"phrasefunction xft\" ><span class=\"f\">phrasefunction=</span>S</span></div><div class=\"children hor wrap \"><div class=\"contnr c0 trm   \" ><div class=\"lbl c0 trm \" ><span class=\"txtu\">Ἰούδας</span></div><div class=\"features\"><span class=\"sp xft\" ><span class=\"f\">sp=</span>noun</span></div></div><div class=\"contnr c0 trm   \" ><div class=\"lbl c0 trm \" ><span class=\"txtu\">δὲ</span></div><div class=\"features\"><span class=\"sp xft\" ><span class=\"f\">sp=</span>conj</span></div></div></div></div><div class=\"contnr c1    \" ><div class=\"lbl c1  \" ><span class=\"nd\">phrase </span> <span class=\"\">#<span title=\"phrase\">12</span></span></div><div class=\"features\"><span class=\"phrasefunction xft\" ><span class=\"f\">phrasefunction=</span>V</span></div><div class=\"children hor wrap \"><div class=\"contnr c0 trm   \" ><div class=\"lbl c0 trm \" ><span class=\"txtu\">ἐγέννησεν</span></div><div class=\"features\"><span class=\"sp xft\" ><span class=\"f\">sp=</span>verb</span></div></div></div></div><div class=\"contnr c1    hl\" ><div class=\"lbl c1  hl\" ><span class=\"nd\">phrase </span> <span class=\"\">#<span title=\"phrase\">13</span></span></div><div class=\"features\"><span class=\"phrasefunction xft\" ><span class=\"f\">phrasefunction=</span>O</span></div><div class=\"children hor wrap \"><div class=\"contnr c0 trm   \" ><div class=\"lbl c0 trm \" ><span class=\"txtu\">τὸν</span></div><div class=\"features\"><span class=\"sp xft\" ><span class=\"f\">sp=</span>det</span></div></div><div class=\"contnr c0 trm   \" ><div class=\"lbl c0 trm \" ><span class=\"txtu\">Φαρὲς</span></div><div class=\"features\"><span class=\"sp xft\" ><span class=\"f\">sp=</span>noun</span></div></div><div class=\"contnr c0 trm   \" ><div class=\"lbl c0 trm \" ><span class=\"txtu\">καὶ</span></div><div class=\"features\"><span class=\"sp xft\" ><span class=\"f\">sp=</span>conj</span></div></div><div class=\"contnr c0 trm   \" ><div class=\"lbl c0 trm \" ><span class=\"txtu\">τὸν</span></div><div class=\"features\"><span class=\"sp xft\" ><span class=\"f\">sp=</span>det</span></div></div><div class=\"contnr c0 trm   \" ><div class=\"lbl c0 trm \" ><span class=\"txtu\">Ζαρὰ</span></div><div class=\"features\"><span class=\"sp xft\" ><span class=\"f\">sp=</span>noun</span></div></div></div></div><div class=\"contnr c1    \" ><div class=\"lbl c1  \" ><span class=\"nd\">phrase </span> <span class=\"\">#<span title=\"phrase\">14</span></span></div><div class=\"features\"><span class=\"phrasefunction xft\" ><span class=\"f\">phrasefunction=</span>ADV</span></div><div class=\"children hor wrap \"><div class=\"contnr c0 trm   \" ><div class=\"lbl c0 trm \" ><span class=\"txtu\">ἐκ</span></div><div class=\"features\"><span class=\"sp xft\" ><span class=\"f\">sp=</span>prep</span></div></div><div class=\"contnr c0 trm   \" ><div class=\"lbl c0 trm \" ><span class=\"txtu\">τῆς</span></div><div class=\"features\"><span class=\"sp xft\" ><span class=\"f\">sp=</span>det</span></div></div><div class=\"contnr c0 trm   \" ><div class=\"lbl c0 trm \" ><span class=\"txtu\">Θάμαρ,</span></div><div class=\"features\"><span class=\"sp xft\" ><span class=\"f\">sp=</span>noun</span></div></div></div></div></div></div><div class=\"contnr c1    \" ><div class=\"lbl c1  \" ><span class=\"nd\">clause </span> <span class=\"\">#<span title=\"clause\">6</span></span></div><div class=\"features\"><span class=\"clausetype xft\" ><span class=\"f\">clausetype=</span>S-V-O</span></div><div class=\"children hor wrap \"><div class=\"contnr c1    \" ><div class=\"lbl c1  \" ><span class=\"nd\">phrase </span> <span class=\"\">#<span title=\"phrase\">15</span></span></div><div class=\"features\"><span class=\"phrasefunction xft\" ><span class=\"f\">phrasefunction=</span>S</span></div><div class=\"children hor wrap \"><div class=\"contnr c0 trm   \" ><div class=\"lbl c0 trm \" ><span class=\"txtu\">Φαρὲς</span></div><div class=\"features\"><span class=\"sp xft\" ><span class=\"f\">sp=</span>noun</span></div></div><div class=\"contnr c0 trm   \" ><div class=\"lbl c0 trm \" ><span class=\"txtu\">δὲ</span></div><div class=\"features\"><span class=\"sp xft\" ><span class=\"f\">sp=</span>conj</span></div></div></div></div><div class=\"contnr c1    \" ><div class=\"lbl c1  \" ><span class=\"nd\">phrase </span> <span class=\"\">#<span title=\"phrase\">16</span></span></div><div class=\"features\"><span class=\"phrasefunction xft\" ><span class=\"f\">phrasefunction=</span>V</span></div><div class=\"children hor wrap \"><div class=\"contnr c0 trm   \" ><div class=\"lbl c0 trm \" ><span class=\"txtu\">ἐγέννησεν</span></div><div class=\"features\"><span class=\"sp xft\" ><span class=\"f\">sp=</span>verb</span></div></div></div></div><div class=\"contnr c1    hl\"  style=\"background-color: pink;\" ><div class=\"lbl c1  hl\"  style=\"background-color: pink;\" ><span class=\"nd\">phrase </span> <span class=\"\">#<span title=\"phrase\">17</span></span></div><div class=\"features\"><span class=\"phrasefunction xft\" ><span class=\"f\">phrasefunction=</span>O</span></div><div class=\"children hor wrap \"><div class=\"contnr c0 trm   \" ><div class=\"lbl c0 trm \" ><span class=\"txtu\">τὸν</span></div><div class=\"features\"><span class=\"sp xft\" ><span class=\"f\">sp=</span>det</span></div></div><div class=\"contnr c0 trm   \" ><div class=\"lbl c0 trm \" ><span class=\"txtu\">Ἐσρώμ,</span></div><div class=\"features\"><span class=\"sp xft\" ><span class=\"f\">sp=</span>noun</span></div></div></div></div></div></div><div class=\"contnr c1    \" ><div class=\"lbl c1  \" ><span class=\"nd\">clause </span> <span class=\"\">#<span title=\"clause\">7</span></span></div><div class=\"features\"><span class=\"clausetype xft\" ><span class=\"f\">clausetype=</span>S-V-O</span></div><div class=\"children hor wrap \"><div class=\"contnr c1    \" ><div class=\"lbl c1  \" ><span class=\"nd\">phrase </span> <span class=\"\">#<span title=\"phrase\">18</span></span></div><div class=\"features\"><span class=\"phrasefunction xft\" ><span class=\"f\">phrasefunction=</span>S</span></div><div class=\"children hor wrap \"><div class=\"contnr c0 trm   \" ><div class=\"lbl c0 trm \" ><span class=\"txtu\">Ἐσρὼμ</span></div><div class=\"features\"><span class=\"sp xft\" ><span class=\"f\">sp=</span>noun</span></div></div><div class=\"contnr c0 trm   \" ><div class=\"lbl c0 trm \" ><span class=\"txtu\">δὲ</span></div><div class=\"features\"><span class=\"sp xft\" ><span class=\"f\">sp=</span>conj</span></div></div></div></div><div class=\"contnr c1    \" ><div class=\"lbl c1  \" ><span class=\"nd\">phrase </span> <span class=\"\">#<span title=\"phrase\">19</span></span></div><div class=\"features\"><span class=\"phrasefunction xft\" ><span class=\"f\">phrasefunction=</span>V</span></div><div class=\"children hor wrap \"><div class=\"contnr c0 trm   \" ><div class=\"lbl c0 trm \" ><span class=\"txtu\">ἐγέννησεν</span></div><div class=\"features\"><span class=\"sp xft\" ><span class=\"f\">sp=</span>verb</span></div></div></div></div><div class=\"contnr c1    hl\" ><div class=\"lbl c1  hl\" ><span class=\"nd\">phrase </span> <span class=\"\">#<span title=\"phrase\">20</span></span></div><div class=\"features\"><span class=\"phrasefunction xft\" ><span class=\"f\">phrasefunction=</span>O</span></div><div class=\"children hor wrap \"><div class=\"contnr c0 trm   \" ><div class=\"lbl c0 trm \" ><span class=\"txtu\">τὸν</span></div><div class=\"features\"><span class=\"sp xft\" ><span class=\"f\">sp=</span>det</span></div></div><div class=\"contnr c0 trm   \" ><div class=\"lbl c0 trm \" ><span class=\"txtu\">Ἀράμ,</span></div><div class=\"features\"><span class=\"sp xft\" ><span class=\"f\">sp=</span>noun</span></div></div></div></div></div></div></div></div></div>"
      ],
      "text/plain": [
       "<IPython.core.display.HTML object>"
      ]
     },
     "metadata": {},
     "output_type": "display_data"
    }
   ],
   "source": [
    "Search0 = '''\n",
    "book book=Matthew\n",
    " chapter chapter=1\n",
    "    phrase phrasefunction=O\n",
    "'''\n",
    "Search0 = NA.search(Search0)\n",
    "NA.show(Search0, start=1, end=2, condensed=True, extraFeatures={'sp', 'clausetype'},  suppress={'chapter'},  colorMap={4:'pink', 5:'turquoise', 6:'lightblue', 7:'red'}, multiFeatures=False)"
   ]
  },
  {
   "cell_type": "code",
   "execution_count": null,
   "id": "67c0b9e1",
   "metadata": {},
   "outputs": [],
   "source": []
  }
 ],
 "metadata": {
  "kernelspec": {
   "display_name": "Python 3 (ipykernel)",
   "language": "python",
   "name": "python3"
  },
  "language_info": {
   "codemirror_mode": {
    "name": "ipython",
    "version": 3
   },
   "file_extension": ".py",
   "mimetype": "text/x-python",
   "name": "python",
   "nbconvert_exporter": "python",
   "pygments_lexer": "ipython3",
   "version": "3.9.12"
  }
 },
 "nbformat": 4,
 "nbformat_minor": 5
}
