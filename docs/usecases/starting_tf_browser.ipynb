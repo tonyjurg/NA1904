{
 "cells": [
  {
   "cell_type": "markdown",
   "id": "70f96132-b7dc-4133-b368-653b3dedd2b7",
   "metadata": {},
   "source": [
    "# Starting Text-Fabric browser"
   ]
  },
  {
   "cell_type": "markdown",
   "id": "48696098-9e6f-43b6-a80c-1bc5b0a18669",
   "metadata": {},
   "source": [
    "## Table of content <a class=\"anchor\" id=\"TOC\"></a>\n",
    "* <a href=\"#bullet1\">1 - Start from a terminal</a>\n",
    "* <a href=\"#bullet2\">2 - Start from Jupyter Notebook</a>"
   ]
  },
  {
   "cell_type": "markdown",
   "id": "c5f1b0ca-905d-43db-bad7-735ed60f3cee",
   "metadata": {
    "tags": []
   },
   "source": [
    "# 1 - Start from a terminal <a class=\"anchor\" id=\"bullet1\"></a>\n",
    "##### [back to TOC](#TOC)\n",
    "\n",
    "This can also easily be done in JupyterLab by going to Launcher and open a new terminal.\n",
    "\n",
    "At the terminal you can enter `text-fabric app --mod=tonyjurg/Nestle1904GBI/tf0.4`.\n",
    "\n",
    "See also image:\n",
    "\n",
    "<img src=\"images/starting_text_fabric_brower.jpg\">\n",
    "\n",
    "This will open a new browser window with the Text-Fabric browser:\n",
    "\n",
    "<img src=\"images/text_fabric_browser.jpg\">"
   ]
  },
  {
   "cell_type": "markdown",
   "id": "de042aea-f35c-40cd-96c7-621bc05c5771",
   "metadata": {},
   "source": [
    "# 2 - Start from Jupyter Notebook <a class=\"anchor\" id=\"bullet2\"></a>\n",
    "##### [back to TOC](#TOC)"
   ]
  },
  {
   "cell_type": "markdown",
   "id": "c36741d5-b0e6-49e0-8993-65367d27aa16",
   "metadata": {},
   "source": [
    "The Text-Fabric brower can also be started from Jupyter Notebook:"
   ]
  },
  {
   "cell_type": "code",
   "execution_count": 2,
   "id": "cfb9b5b7-c480-4ca5-8e1b-0f304958b829",
   "metadata": {},
   "outputs": [
    {
     "name": "stdout",
     "output_type": "stream",
     "text": [
      "This is Text-Fabric 11.4.10\n",
      "Connecting to running kernel via 19449\n",
      "Connecting to running webserver via 29449\n",
      "Opening app in browser\n",
      "Press <Ctrl+C> to stop the TF browser\n"
     ]
    }
   ],
   "source": [
    "!text-fabric app --mod=tonyjurg/Nestle1904GBI/tf/0.4"
   ]
  }
 ],
 "metadata": {
  "kernelspec": {
   "display_name": "Python 3 (ipykernel)",
   "language": "python",
   "name": "python3"
  },
  "language_info": {
   "codemirror_mode": {
    "name": "ipython",
    "version": 3
   },
   "file_extension": ".py",
   "mimetype": "text/x-python",
   "name": "python",
   "nbconvert_exporter": "python",
   "pygments_lexer": "ipython3",
   "version": "3.9.12"
  }
 },
 "nbformat": 4,
 "nbformat_minor": 5
}
