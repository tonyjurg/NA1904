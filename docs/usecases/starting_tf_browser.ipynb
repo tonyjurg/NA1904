{
 "cells": [
  {
   "cell_type": "markdown",
   "id": "70f96132-b7dc-4133-b368-653b3dedd2b7",
   "metadata": {},
   "source": [
    "# Starting Text-Fabric browser"
   ]
  },
  {
   "cell_type": "markdown",
   "id": "eda1e194-482d-4282-9e2b-7fe84dd3ca08",
   "metadata": {},
   "source": [
    "## Table of content <a class=\"anchor\" id=\"TOC\"></a>\n",
    "* <a href=\"#bullet1\">1 - Opening via a terminal</a>\n",
    "* <a href=\"#bullet2\">2 - Opening from Jupyter Notebook</a>"
   ]
  },
  {
   "cell_type": "markdown",
   "id": "c5f1b0ca-905d-43db-bad7-735ed60f3cee",
   "metadata": {
    "tags": []
   },
   "source": [
    "## 1. Opening via a terminal<a class=\"anchor\" id=\"bullet1\"></a>\n",
    "##### [Back to TOC](#TOC)\n",
    "\n",
    "This can also easily be done in JupyterLab by going to Launcher and open a new terminal.\n",
    "\n",
    "At the terminal you can enter `text-fabric app --mod=tonyjurg/Nestle1904GBI/tf/0.4`.\n",
    "\n",
    "text-fabric app --mod=tonyjurg/Nestle1904GBI/tf/0.4,tonyjurg/Nestle1904GBI/app/config.yaml\n",
    "\n",
    "See also image:\n",
    "\n",
    "<img src=\"images/starting_text_fabric_brower.jpg\">\n",
    "\n",
    "This will open a new browser window with the Text-Fabric browser:\n",
    "\n",
    "<img src=\"images/text_fabric_browser.jpg\">"
   ]
  },
  {
   "cell_type": "markdown",
   "id": "96c1c643-91d1-4a7d-880d-5cf3b7739740",
   "metadata": {},
   "source": [
    "## 2. Opening via a terminal<a class=\"anchor\" id=\"bullet2\"></a>\n",
    "##### [Back to TOC](#TOC)\n",
    "\n",
    "Another option is to invoke it from the Jupyter Notebook itself:"
   ]
  },
  {
   "cell_type": "code",
   "execution_count": null,
   "id": "1d5369e7-2a42-49da-88fe-43ec2b4f28a3",
   "metadata": {},
   "outputs": [],
   "source": [
    "!text-fabric app --mod=tonyjurg/Nestle1904GBI/tf/0.4"
   ]
  }
 ],
 "metadata": {
  "kernelspec": {
   "display_name": "Python 3 (ipykernel)",
   "language": "python",
   "name": "python3"
  },
  "language_info": {
   "codemirror_mode": {
    "name": "ipython",
    "version": 3
   },
   "file_extension": ".py",
   "mimetype": "text/x-python",
   "name": "python",
   "nbconvert_exporter": "python",
   "pygments_lexer": "ipython3",
   "version": "3.9.12"
  }
 },
 "nbformat": 4,
 "nbformat_minor": 5
}
