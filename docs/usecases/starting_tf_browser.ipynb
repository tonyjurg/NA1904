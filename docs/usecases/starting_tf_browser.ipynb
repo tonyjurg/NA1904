{
 "cells": [
  {
   "cell_type": "markdown",
   "id": "70f96132-b7dc-4133-b368-653b3dedd2b7",
   "metadata": {},
   "source": [
    "# Starting Text-Fabric browser"
   ]
  },
  {
   "cell_type": "markdown",
   "id": "c5f1b0ca-905d-43db-bad7-735ed60f3cee",
   "metadata": {
    "tags": []
   },
   "source": [
    "This can also easily be done in JupyterLab by going to Launcher and open a new terminal.\n",
    "\n",
    "At the terminal you can enter `text-fabric app --mod=tonyjurg/Nestle1904GBI/tf0.4`.\n",
    "\n",
    "See also image:\n",
    "\n",
    "<img src=\"images/starting_text_fabric_brower.jpg\">\n",
    "\n",
    "This will open a new browser window with the Text-Fabric browser:\n",
    "\n",
    "<img src=\"images/text_fabric_browser.jpg\">"
   ]
  }
 ],
 "metadata": {
  "kernelspec": {
   "display_name": "Python 3 (ipykernel)",
   "language": "python",
   "name": "python3"
  },
  "language_info": {
   "codemirror_mode": {
    "name": "ipython",
    "version": 3
   },
   "file_extension": ".py",
   "mimetype": "text/x-python",
   "name": "python",
   "nbconvert_exporter": "python",
   "pygments_lexer": "ipython3",
   "version": "3.9.12"
  }
 },
 "nbformat": 4,
 "nbformat_minor": 5
}
