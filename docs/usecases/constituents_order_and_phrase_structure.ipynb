{
 "cells": [
  {
   "cell_type": "markdown",
   "id": "f2637008-fceb-47b8-86ac-42633829b391",
   "metadata": {},
   "source": [
    "# Constituents order and phrase structure (Nestle1904GBI)"
   ]
  },
  {
   "cell_type": "markdown",
   "id": "c7a43f6f-08b8-40da-a1f5-f9cb323c964f",
   "metadata": {},
   "source": [
    "## Table of content <a class=\"anchor\" id=\"TOC\"></a>\n",
    "* <a href=\"#bullet1\">1 - Introduction</a>\n",
    "    * <a href=\"#bullet1x1\">1.1 - Why is this relevant?</a>\n",
    "    * <a href=\"#bullet1x2\">1.2 - Translating into Text-Fabric queries</a>\n",
    "    \n",
    "* <a href=\"#bullet2\">2 - Load Text-Fabric app and data</a>\n",
    "* <a href=\"#bullet3\">3 - Performing the queries</a>\n",
    "    * <a href=\"#bullet3x1\">3.1 - TBD</a>\n",
    "    * <a href=\"#bullet3x2\">3.2 - TBD</a>\n",
    "* <a href=\"#bullet4\">4 - Footnotes and attribution</a>    "
   ]
  },
  {
   "cell_type": "markdown",
   "id": "99c8eed2-94dd-4b62-ba6a-487386e93422",
   "metadata": {},
   "source": [
    "# 1 - Introduction <a class=\"anchor\" id=\"bullet1\"></a>\n",
    "##### [Back to TOC](#TOC)\n",
    "\n",
    "Place holder for further investigation"
   ]
  },
  {
   "cell_type": "markdown",
   "id": "f1c6fbd9-2cca-41aa-b6f1-0ef852857dff",
   "metadata": {},
   "source": [
    "## 1.1 - Why is this relevant? <a class=\"anchor\" id=\"bullet1X1\"></a>\n",
    "\n",
    "The constituent order may have exegetical relevance."
   ]
  },
  {
   "cell_type": "markdown",
   "id": "1ad657ef-0133-413e-87bb-9ef12e67573f",
   "metadata": {},
   "source": [
    "## 1.2 - Translating into Text-Fabric queries <a class=\"anchor\" id=\"bullet1x2\"></a>\n",
    "\n",
    "The rough idea is to first determine the sets of clauses by constituent order.\n",
    "Secondly determine relative order of adjectives in phrases.\n",
    "Lastly perform statistic analysis on the percentate of certain phrase structures for the various constituent order types."
   ]
  },
  {
   "cell_type": "markdown",
   "id": "c97f26c8-1f8c-43df-b804-5d8745fce844",
   "metadata": {},
   "source": []
  },
  {
   "cell_type": "markdown",
   "id": "b671c880-a546-4849-9384-487ed4a4531a",
   "metadata": {},
   "source": [
    "# 2 - Load Text-Fabric app and data <a class=\"anchor\" id=\"bullet2\"></a>\n",
    "##### [Back to TOC](#TOC)"
   ]
  },
  {
   "cell_type": "code",
   "execution_count": 1,
   "id": "e72dbefe-43c5-4a03-a8f6-7b885f4e57ea",
   "metadata": {
    "tags": []
   },
   "outputs": [],
   "source": [
    "%load_ext autoreload\n",
    "%autoreload 2"
   ]
  },
  {
   "cell_type": "code",
   "execution_count": 2,
   "id": "0825dd50-e607-485f-85f0-83e85ad289f0",
   "metadata": {},
   "outputs": [],
   "source": [
    "# Loading the New Testament TextFabric code\n",
    "# Note: it is assumed Text-Fabric is installed in your environment.\n",
    "\n",
    "from tf.fabric import Fabric\n",
    "from tf.app import use"
   ]
  },
  {
   "cell_type": "code",
   "execution_count": 1,
   "id": "72661b2a-d195-44cb-a524-1d542784b8d0",
   "metadata": {
    "scrolled": true,
    "tags": []
   },
   "outputs": [
    {
     "ename": "NameError",
     "evalue": "name 'use' is not defined",
     "output_type": "error",
     "traceback": [
      "\u001b[1;31m---------------------------------------------------------------------------\u001b[0m",
      "\u001b[1;31mNameError\u001b[0m                                 Traceback (most recent call last)",
      "Input \u001b[1;32mIn [1]\u001b[0m, in \u001b[0;36m<cell line: 2>\u001b[1;34m()\u001b[0m\n\u001b[0;32m      1\u001b[0m \u001b[38;5;66;03m# load the app and data\u001b[39;00m\n\u001b[1;32m----> 2\u001b[0m N1904 \u001b[38;5;241m=\u001b[39m \u001b[43muse\u001b[49m (\u001b[38;5;124m\"\u001b[39m\u001b[38;5;124mtonyjurg/Nestle1904GBI:latest\u001b[39m\u001b[38;5;124m\"\u001b[39m, hoist\u001b[38;5;241m=\u001b[39m\u001b[38;5;28mglobals\u001b[39m())\n",
      "\u001b[1;31mNameError\u001b[0m: name 'use' is not defined"
     ]
    }
   ],
   "source": [
    "# load the app and data\n",
    "N1904 = use (\"tonyjurg/Nestle1904GBI:latest\", hoist=globals())"
   ]
  },
  {
   "cell_type": "markdown",
   "id": "217ec003-7e50-4fa6-982b-67b1dc880b52",
   "metadata": {},
   "source": [
    "# 3 - Performing the queries <a class=\"anchor\" id=\"bullet3\"></a>\n",
    "##### [Back to TOC](#TOC)"
   ]
  },
  {
   "cell_type": "markdown",
   "id": "1b3dd917-8fb5-400b-91a6-6b09e2630bba",
   "metadata": {
    "tags": []
   },
   "source": [
    "## 3.1 - Determine the conditions <a class=\"anchor\" id=\"bullet3x1\"></a>\n",
    "\n",
    "This code will produce ....."
   ]
  },
  {
   "cell_type": "markdown",
   "id": "b81aa6ac-deed-444b-97b6-2bab15d42025",
   "metadata": {},
   "source": [
    "# 4 - Footnotes and attribution <a class=\"anchor\" id=\"bullet4\"></a>\n",
    "##### [Back to TOC](#TOC)\n",
    "\n",
    "Thanks to Prof. Willem van Peursen (VU) for pointing me to the following:\n",
    ">In Peter James Silzer and Thomas John Finley, How Biblical Languages Work, there is a chapter on Putting Words together: phrases and clauses, which contains some observations on constitutent order (SVO, VSO etc.) and internal phrase structure (e.g. relative order of adjectives)."
   ]
  }
 ],
 "metadata": {
  "kernelspec": {
   "display_name": "Python 3 (ipykernel)",
   "language": "python",
   "name": "python3"
  },
  "language_info": {
   "codemirror_mode": {
    "name": "ipython",
    "version": 3
   },
   "file_extension": ".py",
   "mimetype": "text/x-python",
   "name": "python",
   "nbconvert_exporter": "python",
   "pygments_lexer": "ipython3",
   "version": "3.9.12"
  }
 },
 "nbformat": 4,
 "nbformat_minor": 5
}
