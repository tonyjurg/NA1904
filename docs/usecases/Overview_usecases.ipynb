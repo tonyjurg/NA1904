{
 "cells": [
  {
   "cell_type": "markdown",
   "id": "d735d53d-5b3d-4fed-a6d1-0f53adae60e3",
   "metadata": {},
   "source": [
    "# Overview Usecases"
   ]
  },
  {
   "cell_type": "markdown",
   "id": "efc09dcf-2e46-4101-a4a0-c061a074a9e8",
   "metadata": {},
   "source": [
    "The following are several use-case examples that demonstrate the utilization of the Text-Fabric dataset. While Text-Fabric,  which is implemented as a Python package, can be employed in any stand-alone Python script, it is commonly utilized from within a [Jupyter Notebook](https://jupyter.org) — an interactive web-based computational environment enabling users to create and share documents with live code, visualizations, and text, thus facilitating the inclusion of explanatory notes alongside queries and results obtained from Text-Fabric. The Notebooks are grouped into specific focus areas and topics, albeit somewhat arbitrarily.\n",
    "\n",
    "**Please note that some of these notebooks are still under development.**"
   ]
  },
  {
   "cell_type": "markdown",
   "id": "0d906403-a272-4ba2-8b24-e4a9a60f50ec",
   "metadata": {
    "tags": []
   },
   "source": [
    "## Basic / general\n",
    "\n",
    "* [Load Text-Fabric in Jupyter notebook](https://nbviewer.org/github/tonyjurg/Nestle1904GBI/blob/main/docs/usecases/load_text_fabric.ipynb)\n",
    "* [Start Text-Fabric browser in Jupyter notebook](https://nbviewer.org/github/tonyjurg/Nestle1904GBI/blob/main/docs/usecases/starting_tf_browser.ipynb)\n",
    "* [Print a specific verse](https://nbviewer.org/github/tonyjurg/Nestle1904GBI/blob/main/docs/usecases/print_verse.ipynb)\n",
    "* [Some system statistics](https://nbviewer.org/github/tonyjurg/Nestle1904GBI/blob/main/docs/usecases/Some_system_statistics.ipynb)\n",
    "* [Some corpus statistics](https://nbviewer.org/github/tonyjurg/Nestle1904GBI/blob/main/docs/usecases/Some_corpus_statistics.ipynb)\n",
    "\n",
    "## Grammatical\n",
    "\n",
    "* [Differences between formal and functional tags](https://nbviewer.org/github/tonyjurg/Nestle1904GBI/blob/main/docs/usecases/formal_versus_functional_tag.ipynb)\n",
    "* [The particles μέν and δέ](https://nbviewer.org/github/tonyjurg/Nestle1904GBI/blob/main/docs/usecases/particles_men_and_de.ipynb)\n",
    "* [The use of μονογενής](https://nbviewer.org/github/tonyjurg/Nestle1904GBI/blob/main/docs/usecases/use_of_monogenes.ipynb)\n",
    "* [The use of προσκυνέω](https://nbviewer.org/github/tonyjurg/Nestle1904GBI/blob/main/docs/usecases/use_of_proskyneo.ipynb)\n",
    "* [Incongruenct adverb and noun](https://nbviewer.org/github/tonyjurg/Nestle1904GBI/blob/main/docs/usecases/incongruent_adverb_noun.ipynb)\n",
    "* [Pronominal redundancy](https://nbviewer.org/github/tonyjurg/Nestle1904GBI/blob/main/docs/usecases/pronominal_redundancy.ipynb)\n",
    "\n",
    "## Syntactical \n",
    "\n",
    "* [Genitive objectivus or subjectivus](https://nbviewer.org/github/tonyjurg/Nestle1904GBI/blob/main/docs/usecases/genitive_objectivus_or_subjectivus.ipynb)\n",
    "* [The Granville Sharp rule](https://nbviewer.org/github/tonyjurg/Nestle1904GBI/blob/main/docs/usecases/Granville_Sharp_rule.ipynb)\n",
    "* [Articulated proper nouns](https://nbviewer.org/github/tonyjurg/Nestle1904GBI/blob/main/docs/usecases/articulated_proper_nouns.ipynb)\n",
    "* [Constituents order and phrase structure](https://nbviewer.org/github/tonyjurg/Nestle1904GBI/blob/main/docs/usecases/constituents_order_and_phrase_structure.ipynb)\n",
    "* [Repetition of nouns](https://nbviewer.org/github/tonyjurg/Nestle1904GBI/blob/main/docs/usecases/repetition_of_nouns.ipynb)"
   ]
  },
  {
   "cell_type": "code",
   "execution_count": null,
   "id": "0e81bd9e-2457-470b-b7d4-5e8ea0b6f851",
   "metadata": {},
   "outputs": [],
   "source": []
  }
 ],
 "metadata": {
  "kernelspec": {
   "display_name": "Python 3 (ipykernel)",
   "language": "python",
   "name": "python3"
  },
  "language_info": {
   "codemirror_mode": {
    "name": "ipython",
    "version": 3
   },
   "file_extension": ".py",
   "mimetype": "text/x-python",
   "name": "python",
   "nbconvert_exporter": "python",
   "pygments_lexer": "ipython3",
   "version": "3.11.5"
  }
 },
 "nbformat": 4,
 "nbformat_minor": 5
}
