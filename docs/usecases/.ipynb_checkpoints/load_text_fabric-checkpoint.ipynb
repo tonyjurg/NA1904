{
 "cells": [
  {
   "cell_type": "markdown",
   "id": "bec25f1a",
   "metadata": {},
   "source": [
    "# Loading Text-Fabric (Nestle1904 GBI nodes)\n",
    "\n",
    "Basic instructions on loading the Text-Fabric and start using it on your system."
   ]
  },
  {
   "cell_type": "markdown",
   "id": "fa7f85d5",
   "metadata": {},
   "source": [
    "## Table of content <a class=\"anchor\" id=\"TOC\">\n",
    "    \n",
    "### Loading program and dataset\n",
    "* [Step 1: Install Text-Fabric (if not yet installed)](#first-bullet)\n",
    "* [Step 2: Raise rate limit on Github](#second-bullet)\n",
    "* [Step 3: Load Text Fabric code](#third-bullet)\n",
    "* [Step 4: Load app and data](#fourth-bullet)\n",
    "    \n",
    "### Some basic usage example\n",
    "[Example 1: show all object phrases in clauses](#fifth-bullet)"
   ]
  },
  {
   "cell_type": "markdown",
   "id": "d5a6e05a",
   "metadata": {},
   "source": [
    "## Loading program and dataset\n",
    "\n",
    "### Step 1: Install Text-Fabric (if not yet installed) <a class=\"anchor\" id=\"first-bullet\"></a>\n",
    "##### [back to TOC](#TOC)"
   ]
  },
  {
   "cell_type": "markdown",
   "id": "f71d3a83",
   "metadata": {},
   "source": [
    "#### Python\n",
    "\n",
    "You need to have Python on your system. Most systems have it out of the box,\n",
    "but alas, that is python2 and we need at least python **3.6**.\n",
    "\n",
    "Install it from [python.org](https://www.python.org) or from\n",
    "[Anaconda](https://www.anaconda.com/products/distribution).\n",
    "\n",
    "#### TF itself\n",
    "\n",
    "```\n",
    "pip3 install text-fabric\n",
    "```\n",
    "\n",
    "#### When using Jupyter notebook\n",
    "\n",
    "You need [Jupyter](http://jupyter.org) or a platform like [Anaconda](https://www.anaconda.com/products/distribution) which includes Jupyter.\n",
    "\n",
    "If it is not already installed:\n",
    "\n",
    "```\n",
    "pip3 install jupyter\n",
    "```"
   ]
  },
  {
   "cell_type": "markdown",
   "id": "8684bf30",
   "metadata": {},
   "source": [
    "### Step 2: Raise rate limit on Github <a class=\"anchor\" id=\"second-bullet\"></a>\n",
    "##### [back to TOC](#TOC)\n",
    "\n",
    "It may be required to increase rate limit for GitHub. [See instructions](https://annotation.github.io/text-fabric/tf/advanced/repo.html) on aquiring and setting the GHPERS variable. \n",
    "See [here](https://www.howtogeek.com/789660/how-to-use-windows-cmd-environment-variables/#autotoc_anchor_2) if you want to set the varibale on windows using the command prompt."
   ]
  },
  {
   "cell_type": "markdown",
   "id": "edadeba4",
   "metadata": {},
   "source": [
    "### Step 3: Load TextFabric code <a class=\"anchor\" id=\"third-bullet\"></a>\n",
    "##### [back to TOC](#TOC)"
   ]
  },
  {
   "cell_type": "code",
   "execution_count": 1,
   "id": "a5bc2a5d",
   "metadata": {},
   "outputs": [],
   "source": [
    "%load_ext autoreload\n",
    "%autoreload 2"
   ]
  },
  {
   "cell_type": "code",
   "execution_count": 2,
   "id": "31f3bbde",
   "metadata": {},
   "outputs": [],
   "source": [
    "# Loading the New Testament TextFabric code\n",
    "\n",
    "from tf.fabric import Fabric\n",
    "from tf.app import use"
   ]
  },
  {
   "cell_type": "markdown",
   "id": "f8a57edd-2c89-406a-873f-e7f71a5539c3",
   "metadata": {},
   "source": [
    "### Step 4: Load app and data <a class=\"anchor\" id=\"fourth-bullet\"></a>\n",
    "##### [back to TOC](#TOC)"
   ]
  },
  {
   "cell_type": "code",
   "execution_count": 3,
   "id": "b8574f48",
   "metadata": {},
   "outputs": [
    {
     "data": {
      "text/markdown": [
       "**Locating corpus resources ...**"
      ],
      "text/plain": [
       "<IPython.core.display.Markdown object>"
      ]
     },
     "metadata": {},
     "output_type": "display_data"
    },
    {
     "name": "stdout",
     "output_type": "stream",
     "text": [
      "The requested app is not available offline\n",
      "\t~/text-fabric-data/github/tonyjurg/Nestle1904GBI/app not found\n"
     ]
    },
    {
     "data": {
      "text/html": [
       "Status: latest release online <b>v0.1.1</b> versus <b>None</b> locally"
      ],
      "text/plain": [
       "<IPython.core.display.HTML object>"
      ]
     },
     "metadata": {},
     "output_type": "display_data"
    },
    {
     "data": {
      "text/html": [
       "downloading app, main data and requested additions ..."
      ],
      "text/plain": [
       "<IPython.core.display.HTML object>"
      ]
     },
     "metadata": {},
     "output_type": "display_data"
    },
    {
     "name": "stderr",
     "output_type": "stream",
     "text": [
      "File is not a zip file\n",
      "\tcould not save corpus data to ~/text-fabric-data/github"
     ]
    },
    {
     "name": "stdout",
     "output_type": "stream",
     "text": [
      "rate limit is 5000 requests per hour, with 4993 left for this hour\n",
      "\tconnecting to online GitHub repo tonyjurg/Nestle1904GBI ... connected\n",
      "\tapp/README.md...downloaded\n",
      "\tapp/config.yaml...downloaded\n",
      "\tapp/static...directory\n",
      "\t\tapp/static/display.css...downloaded\n",
      "\tOK\n"
     ]
    },
    {
     "data": {
      "text/html": [
       "<b title=\"latest release\">app:</b> <span title=\"rv0.1.1=#af5dd4a4b6ea90e435d1caee5b8a8648e48a62b9\">~/text-fabric-data/github/tonyjurg/Nestle1904GBI/app</span>"
      ],
      "text/plain": [
       "<IPython.core.display.HTML object>"
      ]
     },
     "metadata": {},
     "output_type": "display_data"
    },
    {
     "name": "stdout",
     "output_type": "stream",
     "text": [
      "The requested data is not available offline\n",
      "\t~/text-fabric-data/github/tonyjurg/Nestle1904GBI/tf/1904 not found\n"
     ]
    },
    {
     "data": {
      "text/html": [
       "Status: latest release online <b>v0.1.1</b> versus <b>None</b> locally"
      ],
      "text/plain": [
       "<IPython.core.display.HTML object>"
      ]
     },
     "metadata": {},
     "output_type": "display_data"
    },
    {
     "data": {
      "text/html": [
       "downloading app, main data and requested additions ..."
      ],
      "text/plain": [
       "<IPython.core.display.HTML object>"
      ]
     },
     "metadata": {},
     "output_type": "display_data"
    },
    {
     "name": "stderr",
     "output_type": "stream",
     "text": [
      "File is not a zip file\n",
      "\tcould not save corpus data to ~/text-fabric-data/github"
     ]
    },
    {
     "name": "stdout",
     "output_type": "stream",
     "text": [
      "rate limit is 5000 requests per hour, with 4978 left for this hour\n",
      "\tconnecting to online GitHub repo tonyjurg/Nestle1904GBI ... connected\n",
      "No directory /tf/1904 in #af5dd4a4b6ea90e435d1caee5b8a8648e48a62b9Will try something else\n",
      "\tFailed\n"
     ]
    },
    {
     "name": "stderr",
     "output_type": "stream",
     "text": [
      "No directory /tf/1904 in #4b7b74b85283250f048b4fcbafbb00ce48da25e1\tFailed\n",
      "There were problems with loading data.\n",
      "The Text-Fabric API has not been loaded!\n",
      "The app \"tonyjurg/Nestle1904GBI\" will not work!\n"
     ]
    }
   ],
   "source": [
    "# load the app and data\n",
    "NA = use (\"tonyjurg/Nestle1904GBI\", hoist=globals())"
   ]
  },
  {
   "cell_type": "markdown",
   "id": "63ab413a",
   "metadata": {},
   "source": [
    "# Some basic usage example\n",
    "##### [back to TOC](#TOC)\n",
    "\n",
    "### Example 1: show all object phrases in clauses\n",
    "\n",
    "The following example will query (and indicate) the phrases with function 'O' (=Object). This is done by selecting  versed containing the value 'O' for feature 'phrasefunction' belonging to node type 'phrase'. See also the [feature description of 'phrasefunction'](https://tonyjurg.github.io/Nestle1904GBI/features/phrasefunction.html)."
   ]
  },
  {
   "cell_type": "code",
   "execution_count": 16,
   "id": "adc48de9",
   "metadata": {},
   "outputs": [
    {
     "name": "stdout",
     "output_type": "stream",
     "text": [
      "  0.05s 51 results\n"
     ]
    },
    {
     "data": {
      "text/html": [
       "<p><b>verse</b> <i>1</i>"
      ],
      "text/plain": [
       "<IPython.core.display.HTML object>"
      ]
     },
     "metadata": {},
     "output_type": "display_data"
    },
    {
     "data": {
      "text/html": [
       "<div class=\"tfsechead \"><span class=\"ltr\"><a target=\"_blank\" href=\"https://bibleol.3bmoodle.dk/text/show_text/nestle1904/Matthew/1/2\" sec=\"Matthew 1:2\">Matthew 1:2</a></span></div><div class=\" children\"><div class=\"contnr c3    \" ><div class=\"lbl c3  \" ><span class=\"nd\">verse </span></div><div class=\"children hor wrap \"><div class=\"contnr c1    \" ><div class=\"lbl c1  \" ><span class=\"nd\">clause </span> <span class=\"\">#<span title=\"clause\">2</span></span></div><div class=\"features\"><span class=\"clausetype xft\" ><span class=\"f\">clausetype=</span>S-V-O</span></div><div class=\"children hor wrap \"><div class=\"contnr c1    \" ><div class=\"lbl c1  \" ><span class=\"nd\">phrase </span> <span class=\"\">#<span title=\"phrase\">2</span></span></div><div class=\"features\"><span class=\"phrasefunction xft\" ><span class=\"f\">phrasefunction=</span>S</span></div><div class=\"children hor wrap \"><div class=\"contnr c0 trm   \" ><div class=\"lbl c0 trm \" ><span class=\"txtu\">Ἀβραὰμ</span></div><div class=\"features\"><span class=\"sp xft\" ><span class=\"f\">sp=</span>noun</span></div></div></div></div><div class=\"contnr c1    \" ><div class=\"lbl c1  \" ><span class=\"nd\">phrase </span> <span class=\"\">#<span title=\"phrase\">3</span></span></div><div class=\"features\"><span class=\"phrasefunction xft\" ><span class=\"f\">phrasefunction=</span>V</span></div><div class=\"children hor wrap \"><div class=\"contnr c0 trm   \" ><div class=\"lbl c0 trm \" ><span class=\"txtu\">ἐγέννησεν</span></div><div class=\"features\"><span class=\"sp xft\" ><span class=\"f\">sp=</span>verb</span></div></div></div></div><div class=\"contnr c1    hl\" ><div class=\"lbl c1  hl\" ><span class=\"nd\">phrase </span> <span class=\"\">#<span title=\"phrase\">4</span></span></div><div class=\"features\"><span class=\"phrasefunction xft\" ><span class=\"f\">phrasefunction=</span>O</span></div><div class=\"children hor wrap \"><div class=\"contnr c0 trm   \" ><div class=\"lbl c0 trm \" ><span class=\"txtu\">τὸν</span></div><div class=\"features\"><span class=\"sp xft\" ><span class=\"f\">sp=</span>det</span></div></div><div class=\"contnr c0 trm   \" ><div class=\"lbl c0 trm \" ><span class=\"txtu\">Ἰσαάκ,</span></div><div class=\"features\"><span class=\"sp xft\" ><span class=\"f\">sp=</span>noun</span></div></div></div></div></div></div><div class=\"contnr c1    \" ><div class=\"lbl c1  \" ><span class=\"nd\">clause </span> <span class=\"\">#<span title=\"clause\">3</span></span></div><div class=\"features\"><span class=\"clausetype xft\" ><span class=\"f\">clausetype=</span>S-V-O</span></div><div class=\"children hor wrap \"><div class=\"contnr c1    \" ><div class=\"lbl c1  \" ><span class=\"nd\">phrase </span> <span class=\"\">#<span title=\"phrase\">5</span></span></div><div class=\"features\"><span class=\"phrasefunction xft\" ><span class=\"f\">phrasefunction=</span>S</span></div><div class=\"children hor wrap \"><div class=\"contnr c0 trm   \" ><div class=\"lbl c0 trm \" ><span class=\"txtu\">Ἰσαὰκ</span></div><div class=\"features\"><span class=\"sp xft\" ><span class=\"f\">sp=</span>noun</span></div></div><div class=\"contnr c0 trm   \" ><div class=\"lbl c0 trm \" ><span class=\"txtu\">δὲ</span></div><div class=\"features\"><span class=\"sp xft\" ><span class=\"f\">sp=</span>conj</span></div></div></div></div><div class=\"contnr c1    \" ><div class=\"lbl c1  \" ><span class=\"nd\">phrase </span> <span class=\"\">#<span title=\"phrase\">6</span></span></div><div class=\"features\"><span class=\"phrasefunction xft\" ><span class=\"f\">phrasefunction=</span>V</span></div><div class=\"children hor wrap \"><div class=\"contnr c0 trm   \" ><div class=\"lbl c0 trm \" ><span class=\"txtu\">ἐγέννησεν</span></div><div class=\"features\"><span class=\"sp xft\" ><span class=\"f\">sp=</span>verb</span></div></div></div></div><div class=\"contnr c1    hl\"  style=\"background-color: pink;\" ><div class=\"lbl c1  hl\"  style=\"background-color: pink;\" ><span class=\"nd\">phrase </span> <span class=\"\">#<span title=\"phrase\">7</span></span></div><div class=\"features\"><span class=\"phrasefunction xft\" ><span class=\"f\">phrasefunction=</span>O</span></div><div class=\"children hor wrap \"><div class=\"contnr c0 trm   \" ><div class=\"lbl c0 trm \" ><span class=\"txtu\">τὸν</span></div><div class=\"features\"><span class=\"sp xft\" ><span class=\"f\">sp=</span>det</span></div></div><div class=\"contnr c0 trm   \" ><div class=\"lbl c0 trm \" ><span class=\"txtu\">Ἰακώβ,</span></div><div class=\"features\"><span class=\"sp xft\" ><span class=\"f\">sp=</span>noun</span></div></div></div></div></div></div><div class=\"contnr c1    \" ><div class=\"lbl c1  \" ><span class=\"nd\">clause </span> <span class=\"\">#<span title=\"clause\">4</span></span></div><div class=\"features\"><span class=\"clausetype xft\" ><span class=\"f\">clausetype=</span>S-V-O-ADV</span></div><div class=\"children hor wrap \"><div class=\"contnr c1    \" ><div class=\"lbl c1  \" ><span class=\"nd\">phrase </span> <span class=\"\">#<span title=\"phrase\">8</span></span></div><div class=\"features\"><span class=\"phrasefunction xft\" ><span class=\"f\">phrasefunction=</span>S</span></div><div class=\"children hor wrap \"><div class=\"contnr c0 trm   \" ><div class=\"lbl c0 trm \" ><span class=\"txtu\">Ἰακὼβ</span></div><div class=\"features\"><span class=\"sp xft\" ><span class=\"f\">sp=</span>noun</span></div></div><div class=\"contnr c0 trm   \" ><div class=\"lbl c0 trm \" ><span class=\"txtu\">δὲ</span></div><div class=\"features\"><span class=\"sp xft\" ><span class=\"f\">sp=</span>conj</span></div></div></div></div><div class=\"contnr c1    \" ><div class=\"lbl c1  \" ><span class=\"nd\">phrase </span> <span class=\"\">#<span title=\"phrase\">9</span></span></div><div class=\"features\"><span class=\"phrasefunction xft\" ><span class=\"f\">phrasefunction=</span>V</span></div><div class=\"children hor wrap \"><div class=\"contnr c0 trm   \" ><div class=\"lbl c0 trm \" ><span class=\"txtu\">ἐγέννησεν</span></div><div class=\"features\"><span class=\"sp xft\" ><span class=\"f\">sp=</span>verb</span></div></div></div></div><div class=\"contnr c1    hl\" ><div class=\"lbl c1  hl\" ><span class=\"nd\">phrase </span> <span class=\"\">#<span title=\"phrase\">10</span></span></div><div class=\"features\"><span class=\"phrasefunction xft\" ><span class=\"f\">phrasefunction=</span>O</span></div><div class=\"children hor wrap \"><div class=\"contnr c0 trm   \" ><div class=\"lbl c0 trm \" ><span class=\"txtu\">τὸν</span></div><div class=\"features\"><span class=\"sp xft\" ><span class=\"f\">sp=</span>det</span></div></div><div class=\"contnr c0 trm   \" ><div class=\"lbl c0 trm \" ><span class=\"txtu\">Ἰούδαν</span></div><div class=\"features\"><span class=\"sp xft\" ><span class=\"f\">sp=</span>noun</span></div></div><div class=\"contnr c0 trm   \" ><div class=\"lbl c0 trm \" ><span class=\"txtu\">καὶ</span></div><div class=\"features\"><span class=\"sp xft\" ><span class=\"f\">sp=</span>conj</span></div></div><div class=\"contnr c0 trm   \" ><div class=\"lbl c0 trm \" ><span class=\"txtu\">τοὺς</span></div><div class=\"features\"><span class=\"sp xft\" ><span class=\"f\">sp=</span>det</span></div></div><div class=\"contnr c0 trm   \" ><div class=\"lbl c0 trm \" ><span class=\"txtu\">ἀδελφοὺς</span></div><div class=\"features\"><span class=\"sp xft\" ><span class=\"f\">sp=</span>noun</span></div></div><div class=\"contnr c0 trm   \" ><div class=\"lbl c0 trm \" ><span class=\"txtu\">αὐτοῦ,</span></div><div class=\"features\"><span class=\"sp xft\" ><span class=\"f\">sp=</span>pron</span></div></div></div></div></div></div></div></div></div>"
      ],
      "text/plain": [
       "<IPython.core.display.HTML object>"
      ]
     },
     "metadata": {},
     "output_type": "display_data"
    },
    {
     "data": {
      "text/html": [
       "<p><b>verse</b> <i>2</i>"
      ],
      "text/plain": [
       "<IPython.core.display.HTML object>"
      ]
     },
     "metadata": {},
     "output_type": "display_data"
    },
    {
     "data": {
      "text/html": [
       "<div class=\"tfsechead \"><span class=\"ltr\"><a target=\"_blank\" href=\"https://bibleol.3bmoodle.dk/text/show_text/nestle1904/Matthew/1/3\" sec=\"Matthew 1:3\">Matthew 1:3</a></span></div><div class=\" children\"><div class=\"contnr c3    \" ><div class=\"lbl c3  \" ><span class=\"nd\">verse </span></div><div class=\"children hor wrap \"><div class=\"contnr c1    \" ><div class=\"lbl c1  \" ><span class=\"nd\">clause </span> <span class=\"\">#<span title=\"clause\">5</span></span></div><div class=\"features\"><span class=\"clausetype xft\" ><span class=\"f\">clausetype=</span>S-V-O</span></div><div class=\"children hor wrap \"><div class=\"contnr c1    \" ><div class=\"lbl c1  \" ><span class=\"nd\">phrase </span> <span class=\"\">#<span title=\"phrase\">11</span></span></div><div class=\"features\"><span class=\"phrasefunction xft\" ><span class=\"f\">phrasefunction=</span>S</span></div><div class=\"children hor wrap \"><div class=\"contnr c0 trm   \" ><div class=\"lbl c0 trm \" ><span class=\"txtu\">Ἰούδας</span></div><div class=\"features\"><span class=\"sp xft\" ><span class=\"f\">sp=</span>noun</span></div></div><div class=\"contnr c0 trm   \" ><div class=\"lbl c0 trm \" ><span class=\"txtu\">δὲ</span></div><div class=\"features\"><span class=\"sp xft\" ><span class=\"f\">sp=</span>conj</span></div></div></div></div><div class=\"contnr c1    \" ><div class=\"lbl c1  \" ><span class=\"nd\">phrase </span> <span class=\"\">#<span title=\"phrase\">12</span></span></div><div class=\"features\"><span class=\"phrasefunction xft\" ><span class=\"f\">phrasefunction=</span>V</span></div><div class=\"children hor wrap \"><div class=\"contnr c0 trm   \" ><div class=\"lbl c0 trm \" ><span class=\"txtu\">ἐγέννησεν</span></div><div class=\"features\"><span class=\"sp xft\" ><span class=\"f\">sp=</span>verb</span></div></div></div></div><div class=\"contnr c1    hl\" ><div class=\"lbl c1  hl\" ><span class=\"nd\">phrase </span> <span class=\"\">#<span title=\"phrase\">13</span></span></div><div class=\"features\"><span class=\"phrasefunction xft\" ><span class=\"f\">phrasefunction=</span>O</span></div><div class=\"children hor wrap \"><div class=\"contnr c0 trm   \" ><div class=\"lbl c0 trm \" ><span class=\"txtu\">τὸν</span></div><div class=\"features\"><span class=\"sp xft\" ><span class=\"f\">sp=</span>det</span></div></div><div class=\"contnr c0 trm   \" ><div class=\"lbl c0 trm \" ><span class=\"txtu\">Φαρὲς</span></div><div class=\"features\"><span class=\"sp xft\" ><span class=\"f\">sp=</span>noun</span></div></div><div class=\"contnr c0 trm   \" ><div class=\"lbl c0 trm \" ><span class=\"txtu\">καὶ</span></div><div class=\"features\"><span class=\"sp xft\" ><span class=\"f\">sp=</span>conj</span></div></div><div class=\"contnr c0 trm   \" ><div class=\"lbl c0 trm \" ><span class=\"txtu\">τὸν</span></div><div class=\"features\"><span class=\"sp xft\" ><span class=\"f\">sp=</span>det</span></div></div><div class=\"contnr c0 trm   \" ><div class=\"lbl c0 trm \" ><span class=\"txtu\">Ζαρὰ</span></div><div class=\"features\"><span class=\"sp xft\" ><span class=\"f\">sp=</span>noun</span></div></div></div></div><div class=\"contnr c1    \" ><div class=\"lbl c1  \" ><span class=\"nd\">phrase </span> <span class=\"\">#<span title=\"phrase\">14</span></span></div><div class=\"features\"><span class=\"phrasefunction xft\" ><span class=\"f\">phrasefunction=</span>ADV</span></div><div class=\"children hor wrap \"><div class=\"contnr c0 trm   \" ><div class=\"lbl c0 trm \" ><span class=\"txtu\">ἐκ</span></div><div class=\"features\"><span class=\"sp xft\" ><span class=\"f\">sp=</span>prep</span></div></div><div class=\"contnr c0 trm   \" ><div class=\"lbl c0 trm \" ><span class=\"txtu\">τῆς</span></div><div class=\"features\"><span class=\"sp xft\" ><span class=\"f\">sp=</span>det</span></div></div><div class=\"contnr c0 trm   \" ><div class=\"lbl c0 trm \" ><span class=\"txtu\">Θάμαρ,</span></div><div class=\"features\"><span class=\"sp xft\" ><span class=\"f\">sp=</span>noun</span></div></div></div></div></div></div><div class=\"contnr c1    \" ><div class=\"lbl c1  \" ><span class=\"nd\">clause </span> <span class=\"\">#<span title=\"clause\">6</span></span></div><div class=\"features\"><span class=\"clausetype xft\" ><span class=\"f\">clausetype=</span>S-V-O</span></div><div class=\"children hor wrap \"><div class=\"contnr c1    \" ><div class=\"lbl c1  \" ><span class=\"nd\">phrase </span> <span class=\"\">#<span title=\"phrase\">15</span></span></div><div class=\"features\"><span class=\"phrasefunction xft\" ><span class=\"f\">phrasefunction=</span>S</span></div><div class=\"children hor wrap \"><div class=\"contnr c0 trm   \" ><div class=\"lbl c0 trm \" ><span class=\"txtu\">Φαρὲς</span></div><div class=\"features\"><span class=\"sp xft\" ><span class=\"f\">sp=</span>noun</span></div></div><div class=\"contnr c0 trm   \" ><div class=\"lbl c0 trm \" ><span class=\"txtu\">δὲ</span></div><div class=\"features\"><span class=\"sp xft\" ><span class=\"f\">sp=</span>conj</span></div></div></div></div><div class=\"contnr c1    \" ><div class=\"lbl c1  \" ><span class=\"nd\">phrase </span> <span class=\"\">#<span title=\"phrase\">16</span></span></div><div class=\"features\"><span class=\"phrasefunction xft\" ><span class=\"f\">phrasefunction=</span>V</span></div><div class=\"children hor wrap \"><div class=\"contnr c0 trm   \" ><div class=\"lbl c0 trm \" ><span class=\"txtu\">ἐγέννησεν</span></div><div class=\"features\"><span class=\"sp xft\" ><span class=\"f\">sp=</span>verb</span></div></div></div></div><div class=\"contnr c1    hl\"  style=\"background-color: pink;\" ><div class=\"lbl c1  hl\"  style=\"background-color: pink;\" ><span class=\"nd\">phrase </span> <span class=\"\">#<span title=\"phrase\">17</span></span></div><div class=\"features\"><span class=\"phrasefunction xft\" ><span class=\"f\">phrasefunction=</span>O</span></div><div class=\"children hor wrap \"><div class=\"contnr c0 trm   \" ><div class=\"lbl c0 trm \" ><span class=\"txtu\">τὸν</span></div><div class=\"features\"><span class=\"sp xft\" ><span class=\"f\">sp=</span>det</span></div></div><div class=\"contnr c0 trm   \" ><div class=\"lbl c0 trm \" ><span class=\"txtu\">Ἐσρώμ,</span></div><div class=\"features\"><span class=\"sp xft\" ><span class=\"f\">sp=</span>noun</span></div></div></div></div></div></div><div class=\"contnr c1    \" ><div class=\"lbl c1  \" ><span class=\"nd\">clause </span> <span class=\"\">#<span title=\"clause\">7</span></span></div><div class=\"features\"><span class=\"clausetype xft\" ><span class=\"f\">clausetype=</span>S-V-O</span></div><div class=\"children hor wrap \"><div class=\"contnr c1    \" ><div class=\"lbl c1  \" ><span class=\"nd\">phrase </span> <span class=\"\">#<span title=\"phrase\">18</span></span></div><div class=\"features\"><span class=\"phrasefunction xft\" ><span class=\"f\">phrasefunction=</span>S</span></div><div class=\"children hor wrap \"><div class=\"contnr c0 trm   \" ><div class=\"lbl c0 trm \" ><span class=\"txtu\">Ἐσρὼμ</span></div><div class=\"features\"><span class=\"sp xft\" ><span class=\"f\">sp=</span>noun</span></div></div><div class=\"contnr c0 trm   \" ><div class=\"lbl c0 trm \" ><span class=\"txtu\">δὲ</span></div><div class=\"features\"><span class=\"sp xft\" ><span class=\"f\">sp=</span>conj</span></div></div></div></div><div class=\"contnr c1    \" ><div class=\"lbl c1  \" ><span class=\"nd\">phrase </span> <span class=\"\">#<span title=\"phrase\">19</span></span></div><div class=\"features\"><span class=\"phrasefunction xft\" ><span class=\"f\">phrasefunction=</span>V</span></div><div class=\"children hor wrap \"><div class=\"contnr c0 trm   \" ><div class=\"lbl c0 trm \" ><span class=\"txtu\">ἐγέννησεν</span></div><div class=\"features\"><span class=\"sp xft\" ><span class=\"f\">sp=</span>verb</span></div></div></div></div><div class=\"contnr c1    hl\" ><div class=\"lbl c1  hl\" ><span class=\"nd\">phrase </span> <span class=\"\">#<span title=\"phrase\">20</span></span></div><div class=\"features\"><span class=\"phrasefunction xft\" ><span class=\"f\">phrasefunction=</span>O</span></div><div class=\"children hor wrap \"><div class=\"contnr c0 trm   \" ><div class=\"lbl c0 trm \" ><span class=\"txtu\">τὸν</span></div><div class=\"features\"><span class=\"sp xft\" ><span class=\"f\">sp=</span>det</span></div></div><div class=\"contnr c0 trm   \" ><div class=\"lbl c0 trm \" ><span class=\"txtu\">Ἀράμ,</span></div><div class=\"features\"><span class=\"sp xft\" ><span class=\"f\">sp=</span>noun</span></div></div></div></div></div></div></div></div></div>"
      ],
      "text/plain": [
       "<IPython.core.display.HTML object>"
      ]
     },
     "metadata": {},
     "output_type": "display_data"
    }
   ],
   "source": [
    "Search0 = '''\n",
    "book book=Matthew\n",
    " chapter chapter=1\n",
    "    phrase phrasefunction=O\n",
    "'''\n",
    "Search0 = NA.search(Search0)\n",
    "NA.show(Search0, start=1, end=2, condensed=True, extraFeatures={'sp', 'clausetype'},  suppress={'chapter'},  colorMap={4:'pink', 5:'turquoise', 6:'lightblue', 7:'red'}, multiFeatures=False)"
   ]
  },
  {
   "cell_type": "code",
   "execution_count": null,
   "id": "67c0b9e1",
   "metadata": {},
   "outputs": [],
   "source": []
  }
 ],
 "metadata": {
  "kernelspec": {
   "display_name": "Python 3 (ipykernel)",
   "language": "python",
   "name": "python3"
  },
  "language_info": {
   "codemirror_mode": {
    "name": "ipython",
    "version": 3
   },
   "file_extension": ".py",
   "mimetype": "text/x-python",
   "name": "python",
   "nbconvert_exporter": "python",
   "pygments_lexer": "ipython3",
   "version": "3.9.12"
  }
 },
 "nbformat": 4,
 "nbformat_minor": 5
}
