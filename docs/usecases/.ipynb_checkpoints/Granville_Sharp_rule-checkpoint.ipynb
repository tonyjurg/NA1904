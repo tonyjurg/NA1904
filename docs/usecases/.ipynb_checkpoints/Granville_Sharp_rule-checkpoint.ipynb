{
 "cells": [
  {
   "cell_type": "markdown",
   "id": "e8de204a-dae2-4e13-9ea8-86244e15176a",
   "metadata": {},
   "source": [
    "# The Granville Sharp rule (Nestle1904GBI)"
   ]
  },
  {
   "cell_type": "markdown",
   "id": "f504be25-a4e3-4a32-85dc-0d64b5a998b0",
   "metadata": {
    "jp-MarkdownHeadingCollapsed": true,
    "tags": []
   },
   "source": [
    "## Table of content <a class=\"anchor\" id=\"TOC\">\n",
    "* [Step 1: Load Text-Fabric code](#first-bullet)\n",
    "* [Step 2: Load app and data](#second-bullet)\n",
    "* [Step 3: Query for differences between formal and functional tag](#third-bullet)"
   ]
  },
  {
   "cell_type": "markdown",
   "id": "2d37f61e-3cb5-4280-8ef3-a7761db78dc7",
   "metadata": {},
   "source": [
    "# Introduction\n",
    "\n",
    "TBD\n",
    "\n",
    "This rule is formulated as:\n",
    "\n",
    "> \"When the copulative καὶ connects two nouns of the same case,(...) if the article ὁ, or any of its cases, precedes the first of the said nouns or participles, and is not repeated before the second noun or participle, the latter always relates to the same person that is expressed or described by the first noun or participle ...\"[^1]\n",
    "\n",
    "## Why is this relevant?\n",
    "\n",
    "This rule is often refered to in order to prove the deity of Christ using textual and grammatical means (just as done by Granville Sharp).  It is often applied to verses like Titus 2:13:\n",
    "\n",
    "> προσδεχόμενοι τὴν μακαρίαν ἐλπίδα καὶ ἐπιφάνειαν τῆς δόξης τοῦ μεγάλου θεοῦ καὶ σωτῆρος ἡμῶν Ἰησοῦ Χριστοῦ,\n",
    "\n",
    "## Translating it into a Text-Fabric query \n",
    "\n",
    "The following Text-Fabric query will identify a list of instances where the conditions referred to by the Granville Sharp rule are met. The results would assist in determining the exceptions and limitations of this rule.\n",
    "\n",
    "This Text-Fabric query will produce:\n",
    "\n",
    "- Find all sequences of two substantive nouns in the same case.\n",
    "- Check if they share the same definite article.\n",
    "\n",
    "It will return only instances where:\n",
    "\n",
    "- The two nouns are singular\n",
    "- The article is arthrous (occurs with the nouns)\n",
    "- The two nouns do not stand in a possessive relationship (one does not modify the other)\n",
    "- They do not constitute a proper name or geographical term (this can be done using Lauw-Nida classifications)\n",
    "- They are not separated by a modifier that would prevent them from referring to the same thing\n",
    "\n",
    "\n",
    "## Notes\n",
    "\n",
    "[^1]: Sharp, Granville (1798). [*Remarks on the Uses of the Definitive Article in the Greek Text of the New Testament, Containing Many New Proofs of the Divinity of Christ, from Passages Which Are Wrongly Translated in the Common English Version*](https://archive.org/details/remarksonusesofd00sharrich/page/2/mode/2up), Third Edition. (London: C. & W. Galabin, 1803), 3.\n",
    "\n",
    "See also the extensive discussion on this subject in: Daniel B. Wallace, *The Basics of New Testament Syntax*, AER Edition January 2009 (Grand Rapids, MI: Zondervan, 2009) 120-128."
   ]
  },
  {
   "cell_type": "markdown",
   "id": "85012fdd-de39-4b52-bb14-fb97e395ddf8",
   "metadata": {},
   "source": [
    "## Step 1: Load Text-Fabric code <a class=\"anchor\" id=\"first-bullet\"></a>\n",
    "##### [Back to TOC](#TOC)"
   ]
  },
  {
   "cell_type": "code",
   "execution_count": 2,
   "id": "ae5fa3ff-e263-42df-9e5a-422d6510227f",
   "metadata": {},
   "outputs": [],
   "source": [
    "%load_ext autoreload\n",
    "%autoreload 2"
   ]
  },
  {
   "cell_type": "code",
   "execution_count": 3,
   "id": "328ba8e3-a620-45df-872b-e71e1bd8622b",
   "metadata": {},
   "outputs": [],
   "source": [
    "# Loading the New Testament TextFabric code\n",
    "# Note: it is assumed Text-Fabric is installed in your environment.\n",
    "\n",
    "from tf.fabric import Fabric\n",
    "from tf.app import use"
   ]
  },
  {
   "cell_type": "markdown",
   "id": "71143f57-a990-46aa-b5a0-eae5d29a5dd2",
   "metadata": {
    "jp-MarkdownHeadingCollapsed": true,
    "tags": []
   },
   "source": [
    "## Step 2: Load app and data <a class=\"anchor\" id=\"second-bullet\"></a>\n",
    "##### [Back to TOC](#TOC)"
   ]
  },
  {
   "cell_type": "code",
   "execution_count": null,
   "id": "79c70ccc-e3e4-4cc1-bd7c-681d6982640c",
   "metadata": {},
   "outputs": [],
   "source": []
  },
  {
   "cell_type": "markdown",
   "id": "69f4c12a-54fc-4a72-b13d-3d55cde6583a",
   "metadata": {
    "tags": []
   },
   "source": [
    "## Step 3: Query for Granville Sharp conditions<a class=\"anchor\" id=\"third-bullet\"></a>\n",
    "##### [Back to TOC](#TOC)\n",
    "\n"
   ]
  }
 ],
 "metadata": {
  "kernelspec": {
   "display_name": "Python 3 (ipykernel)",
   "language": "python",
   "name": "python3"
  },
  "language_info": {
   "codemirror_mode": {
    "name": "ipython",
    "version": 3
   },
   "file_extension": ".py",
   "mimetype": "text/x-python",
   "name": "python",
   "nbconvert_exporter": "python",
   "pygments_lexer": "ipython3",
   "version": "3.9.12"
  }
 },
 "nbformat": 4,
 "nbformat_minor": 5
}
