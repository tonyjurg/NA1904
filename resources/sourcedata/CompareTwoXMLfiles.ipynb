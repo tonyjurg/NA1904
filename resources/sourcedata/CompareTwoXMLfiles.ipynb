{
 "cells": [
  {
   "cell_type": "markdown",
   "id": "db95113b-4dc7-4b64-96f9-1f14895ac228",
   "metadata": {},
   "source": [
    "# Compare two XML files"
   ]
  },
  {
   "cell_type": "markdown",
   "id": "318a0e17-7538-4b54-8001-c129e29fb27d",
   "metadata": {},
   "source": [
    "Jupiter Notebook intended to quicly compare the content and structure of two versions of the input XML files."
   ]
  },
  {
   "cell_type": "code",
   "execution_count": 38,
   "id": "2b34f28b-8848-42ef-a97b-5be863291ac9",
   "metadata": {},
   "outputs": [],
   "source": [
    "# Following variables should contain the relative path and name of the two files to compare\n",
    "book=\"26-jude.xml\"\n",
    "version1=\"apr_6_2023\"\n",
    "version2=\"oct_27_2022\"\n",
    "file1_path = version1+\"/\"+book\n",
    "file2_path = version2+\"/\"+book\n",
    "# Set to True if detailed reporting is required\n",
    "details = True"
   ]
  },
  {
   "cell_type": "code",
   "execution_count": 39,
   "id": "4dd89b74-80bc-40f4-bfc4-709694acec6a",
   "metadata": {},
   "outputs": [
    {
     "data": {
      "text/plain": [
       "[\"Tag/Attributes: Node != Node or {'{http://www.w3.org/XML/1998/namespace}id': 'n65001004023', 'ref': 'JUD 1:4!23', 'Cat': 'adj', 'Start': '22', 'End': '22', 'StrongNumber': '3441', 'UnicodeLemma': 'μόνος', 'Gender': 'Masculine', 'Number': 'Singular', 'FunctionalTag': 'A-ASM', 'Type': '', 'morphId': '65001004023', 'NormalizedForm': 'μόνον', 'Case': 'Accusative', 'Unicode': 'μόνον', 'FormalTag': 'A-ASM', 'nodeId': '650010040230010', 'Gloss': 'only', 'LexDomain': '058007', 'LN': '58.50'} != {'{http://www.w3.org/XML/1998/namespace}id': 'n65001004023', 'ref': 'JUD 1:4!23', 'Cat': 'adj', 'Start': '22', 'End': '22', 'StrongNumber': '3441', 'UnicodeLemma': 'μόνος', 'Gender': 'Masculine', 'Number': 'Singular', 'FunctionalTag': 'A-ASM', 'Type': '', 'morphId': '65001004023', 'NormalizedForm': 'μόνον', 'Case': 'Accusative', 'Unicode': 'μόνον', 'FormalTag': 'A-ASM', 'nodeId': '650010040230010', 'Gloss': 'only'}\",\n",
       " \"Tag/Attributes: Node != Node or {'{http://www.w3.org/XML/1998/namespace}id': 'n65001006007', 'ref': 'JUD 1:6!7', 'Cat': 'pron', 'Start': '26', 'End': '26', 'StrongNumber': '1438', 'UnicodeLemma': 'ἑαυτοῦ', 'Gender': 'Masculine', 'Number': 'Plural', 'FunctionalTag': 'F-3GPM', 'Type': 'Personal', 'morphId': '65001006007', 'NormalizedForm': 'ἑαυτῶν', 'Case': 'Genitive', 'Unicode': 'ἑαυτῶν', 'FormalTag': 'F-3GPM', 'nodeId': '650010060070010', 'Gloss': 'their', 'Ref': 'n65001006001', 'LexDomain': '092004', 'LN': '92.25'} != {'{http://www.w3.org/XML/1998/namespace}id': 'n65001006007', 'ref': 'JUD 1:6!7', 'Cat': 'pron', 'Start': '26', 'End': '26', 'StrongNumber': '1438', 'UnicodeLemma': 'ἑαυτοῦ', 'Gender': 'Masculine', 'Number': 'Plural', 'FunctionalTag': 'F-3GPM', 'Type': 'Personal', 'morphId': '65001006007', 'NormalizedForm': 'ἑαυτῶν', 'Case': 'Genitive', 'Unicode': 'ἑαυτῶν', 'FormalTag': 'F-3GPM', 'nodeId': '650010060070010', 'Gloss': 'their', 'Ref': 'n65001006001'}\",\n",
       " \"Tag/Attributes: Node != Node or {'{http://www.w3.org/XML/1998/namespace}id': 'n65001006016', 'ref': 'JUD 1:6!16', 'Cat': 'adj', 'Start': '35', 'End': '35', 'StrongNumber': '3173', 'UnicodeLemma': 'μέγας', 'Gender': 'Feminine', 'Number': 'Singular', 'FunctionalTag': 'A-GSF', 'Type': '', 'morphId': '65001006016', 'NormalizedForm': 'μεγάλης', 'Case': 'Genitive', 'Unicode': 'μεγάλης', 'FormalTag': 'A-GSF', 'nodeId': '650010060160010', 'Gloss': 'of [the] great', 'LexDomain': '087003', 'LN': '87.22'} != {'{http://www.w3.org/XML/1998/namespace}id': 'n65001006016', 'ref': 'JUD 1:6!16', 'Cat': 'adj', 'Start': '35', 'End': '35', 'StrongNumber': '3173', 'UnicodeLemma': 'μέγας', 'Gender': 'Feminine', 'Number': 'Singular', 'FunctionalTag': 'A-GSF', 'Type': '', 'morphId': '65001006016', 'NormalizedForm': 'μεγάλης', 'Case': 'Genitive', 'Unicode': 'μεγάλης', 'FormalTag': 'A-GSF', 'nodeId': '650010060160010', 'Gloss': 'of [the] great'}\",\n",
       " \"Tag/Attributes: Node != Node or {'{http://www.w3.org/XML/1998/namespace}id': 'n65001012011', 'ref': 'JUD 1:12!11', 'Cat': 'pron', 'Start': '10', 'End': '10', 'StrongNumber': '1438', 'UnicodeLemma': 'ἑαυτοῦ', 'Gender': 'Masculine', 'Number': 'Plural', 'FunctionalTag': 'F-3APM', 'Type': 'Personal', 'morphId': '65001012011', 'NormalizedForm': 'ἑαυτούς', 'Case': 'Accusative', 'Unicode': 'ἑαυτοὺς', 'FormalTag': 'F-3APM', 'nodeId': '650010120110010', 'Gloss': 'themselves', 'Ref': 'n65001008005', 'LexDomain': '092004', 'LN': '92.25'} != {'{http://www.w3.org/XML/1998/namespace}id': 'n65001012011', 'ref': 'JUD 1:12!11', 'Cat': 'pron', 'Start': '10', 'End': '10', 'StrongNumber': '1438', 'UnicodeLemma': 'ἑαυτοῦ', 'Gender': 'Masculine', 'Number': 'Plural', 'FunctionalTag': 'F-3APM', 'Type': 'Personal', 'morphId': '65001012011', 'NormalizedForm': 'ἑαυτούς', 'Case': 'Accusative', 'Unicode': 'ἑαυτοὺς', 'FormalTag': 'F-3APM', 'nodeId': '650010120110010', 'Gloss': 'themselves', 'Ref': 'n65001008005'}\",\n",
       " \"Tag/Attributes: Node != Node or {'{http://www.w3.org/XML/1998/namespace}id': 'n65001013006', 'ref': 'JUD 1:13!6', 'Cat': 'pron', 'Start': '28', 'End': '28', 'StrongNumber': '1438', 'UnicodeLemma': 'ἑαυτοῦ', 'Gender': 'Neuter', 'Number': 'Plural', 'FunctionalTag': 'F-3GPN', 'Type': 'Personal', 'morphId': '65001013006', 'NormalizedForm': 'ἑαυτῶν', 'Case': 'Genitive', 'Unicode': 'ἑαυτῶν', 'FormalTag': 'F-3GPN', 'nodeId': '650010130060010', 'Gloss': 'of their', 'Ref': 'n65001013001', 'LexDomain': '092004', 'LN': '92.25'} != {'{http://www.w3.org/XML/1998/namespace}id': 'n65001013006', 'ref': 'JUD 1:13!6', 'Cat': 'pron', 'Start': '28', 'End': '28', 'StrongNumber': '1438', 'UnicodeLemma': 'ἑαυτοῦ', 'Gender': 'Neuter', 'Number': 'Plural', 'FunctionalTag': 'F-3GPN', 'Type': 'Personal', 'morphId': '65001013006', 'NormalizedForm': 'ἑαυτῶν', 'Case': 'Genitive', 'Unicode': 'ἑαυτῶν', 'FormalTag': 'F-3GPN', 'nodeId': '650010130060010', 'Gloss': 'of their', 'Ref': 'n65001013001'}\",\n",
       " \"Tag/Attributes: Node != Node or {'{http://www.w3.org/XML/1998/namespace}id': 'n65001014011', 'ref': 'JUD 1:14!11', 'Cat': 'verb', 'Start': '10', 'End': '10', 'StrongNumber': '2064', 'UnicodeLemma': 'ἔρχομαι', 'Person': 'Third', 'Mood': 'Indicative', 'Tense': 'Aorist', 'Number': 'Singular', 'FunctionalTag': 'V-2AAI-3S', 'Type': '', 'morphId': '65001014011', 'NormalizedForm': 'ἦλθεν', 'Unicode': 'ἦλθεν', 'FormalTag': 'V-2AAI-3S', 'Voice': 'Active', 'nodeId': '650010140110010', 'Gloss': 'has come', 'Frame': 'A0:n65001014012', 'LexDomain': '015006', 'LN': '15.81'} != {'{http://www.w3.org/XML/1998/namespace}id': 'n65001014011', 'ref': 'JUD 1:14!11', 'Cat': 'verb', 'Start': '10', 'End': '10', 'StrongNumber': '2064', 'UnicodeLemma': 'ἔρχομαι', 'Person': 'Third', 'Mood': 'Indicative', 'Tense': 'Aorist', 'Number': 'Singular', 'FunctionalTag': 'V-2AAI-3S', 'Type': '', 'morphId': '65001014011', 'NormalizedForm': 'ἦλθεν', 'Unicode': 'ἦλθεν', 'FormalTag': 'V-2AAI-3S', 'Voice': 'Active', 'nodeId': '650010140110010', 'Gloss': 'has come', 'Frame': 'A0:n65001014012'}\",\n",
       " \"Tag/Attributes: Node != Node or {'{http://www.w3.org/XML/1998/namespace}id': 'n65001015008', 'ref': 'JUD 1:15!8', 'Cat': 'det', 'Start': '23', 'End': '23', 'StrongNumber': '3588', 'UnicodeLemma': 'ὁ', 'Gender': 'Masculine', 'Number': 'Plural', 'FunctionalTag': 'T-APM', 'Type': '', 'morphId': '65001015008', 'NormalizedForm': 'τούς', 'Case': 'Accusative', 'Unicode': 'τοὺς', 'FormalTag': 'T-APM', 'nodeId': '650010150080010', 'Gloss': 'the', 'LexDomain': '092004', 'LN': '92.24'} != {'{http://www.w3.org/XML/1998/namespace}id': 'n65001015008', 'ref': 'JUD 1:15!8', 'Cat': 'det', 'Start': '23', 'End': '23', 'StrongNumber': '3588', 'UnicodeLemma': 'ὁ', 'Gender': 'Masculine', 'Number': 'Plural', 'FunctionalTag': 'T-APM', 'Type': '', 'morphId': '65001015008', 'NormalizedForm': 'τούς', 'Case': 'Accusative', 'Unicode': 'τοὺς', 'FormalTag': 'T-APM', 'nodeId': '650010150080010', 'Gloss': 'the'}\",\n",
       " \"Tag/Attributes: Node != Node or {'{http://www.w3.org/XML/1998/namespace}id': 'n65001015009', 'ref': 'JUD 1:15!9', 'Cat': 'adj', 'Start': '24', 'End': '24', 'StrongNumber': '765', 'UnicodeLemma': 'ἀσεβής', 'Gender': 'Masculine', 'Number': 'Plural', 'FunctionalTag': 'A-APM', 'Type': '', 'morphId': '65001015009', 'NormalizedForm': 'ἀσεβεῖς', 'Case': 'Accusative', 'Unicode': 'ἀσεβεῖς', 'FormalTag': 'A-APM', 'nodeId': '650010150090010', 'Gloss': 'ungodly', 'LexDomain': '053001', 'LN': '53.11'} != {'{http://www.w3.org/XML/1998/namespace}id': 'n65001015009', 'ref': 'JUD 1:15!9', 'Cat': 'adj', 'Start': '24', 'End': '24', 'StrongNumber': '765', 'UnicodeLemma': 'ἀσεβής', 'Gender': 'Masculine', 'Number': 'Plural', 'FunctionalTag': 'A-APM', 'Type': '', 'morphId': '65001015009', 'NormalizedForm': 'ἀσεβεῖς', 'Case': 'Accusative', 'Unicode': 'ἀσεβεῖς', 'FormalTag': 'A-APM', 'nodeId': '650010150090010', 'Gloss': 'ungodly'}\",\n",
       " \"Tag/Attributes: Node != Node or {'{http://www.w3.org/XML/1998/namespace}id': 'n65001018006', 'ref': 'JUD 1:18!6', 'Cat': 'det', 'Start': '5', 'End': '5', 'StrongNumber': '3588', 'UnicodeLemma': 'ὁ', 'Gender': 'Masculine', 'Number': 'Singular', 'FunctionalTag': 'T-GSM', 'Type': '', 'morphId': '65001018006', 'NormalizedForm': 'τοῦ', 'Case': 'Genitive', 'Unicode': 'τοῦ', 'FormalTag': 'T-GSM', 'nodeId': '650010180060010', 'Gloss': '-', 'LexDomain': '092004', 'LN': '92.24'} != {'{http://www.w3.org/XML/1998/namespace}id': 'n65001018006', 'ref': 'JUD 1:18!6', 'Cat': 'det', 'Start': '5', 'End': '5', 'StrongNumber': '3588', 'UnicodeLemma': 'ὁ', 'Gender': 'Masculine', 'Number': 'Singular', 'FunctionalTag': 'T-GSM', 'Type': '', 'morphId': '65001018006', 'NormalizedForm': 'τοῦ', 'Case': 'Genitive', 'Unicode': 'τοῦ', 'FormalTag': 'T-GSM', 'nodeId': '650010180060010', 'Gloss': '-'}\",\n",
       " \"Tag/Attributes: Node != Node or {'{http://www.w3.org/XML/1998/namespace}id': 'n65001018012', 'ref': 'JUD 1:18!12', 'Cat': 'pron', 'Start': '12', 'End': '12', 'StrongNumber': '1438', 'UnicodeLemma': 'ἑαυτοῦ', 'Gender': 'Masculine', 'Number': 'Plural', 'FunctionalTag': 'F-3GPM', 'Type': 'Personal', 'morphId': '65001018012', 'NormalizedForm': 'ἑαυτῶν', 'Case': 'Genitive', 'Unicode': 'ἑαυτῶν', 'FormalTag': 'F-3GPM', 'nodeId': '650010180120010', 'Gloss': 'their own', 'Ref': 'n65001018009', 'LexDomain': '092004', 'LN': '92.25'} != {'{http://www.w3.org/XML/1998/namespace}id': 'n65001018012', 'ref': 'JUD 1:18!12', 'Cat': 'pron', 'Start': '12', 'End': '12', 'StrongNumber': '1438', 'UnicodeLemma': 'ἑαυτοῦ', 'Gender': 'Masculine', 'Number': 'Plural', 'FunctionalTag': 'F-3GPM', 'Type': 'Personal', 'morphId': '65001018012', 'NormalizedForm': 'ἑαυτῶν', 'Case': 'Genitive', 'Unicode': 'ἑαυτῶν', 'FormalTag': 'F-3GPM', 'nodeId': '650010180120010', 'Gloss': 'their own', 'Ref': 'n65001018009'}\",\n",
       " \"Tag/Attributes: Node != Node or {'{http://www.w3.org/XML/1998/namespace}id': 'n65001020005', 'ref': 'JUD 1:20!5', 'Cat': 'pron', 'Start': '4', 'End': '4', 'StrongNumber': '1438', 'UnicodeLemma': 'ἑαυτοῦ', 'Gender': 'Masculine', 'Number': 'Plural', 'FunctionalTag': 'F-2APM', 'Type': 'Personal', 'morphId': '65001020005', 'NormalizedForm': 'ἑαυτούς', 'Case': 'Accusative', 'Unicode': 'ἑαυτοὺς', 'FormalTag': 'F-2APM', 'nodeId': '650010200050010', 'Gloss': 'yourselves', 'Ref': 'n65001020003', 'LexDomain': '092004', 'LN': '92.25'} != {'{http://www.w3.org/XML/1998/namespace}id': 'n65001020005', 'ref': 'JUD 1:20!5', 'Cat': 'pron', 'Start': '4', 'End': '4', 'StrongNumber': '1438', 'UnicodeLemma': 'ἑαυτοῦ', 'Gender': 'Masculine', 'Number': 'Plural', 'FunctionalTag': 'F-2APM', 'Type': 'Personal', 'morphId': '65001020005', 'NormalizedForm': 'ἑαυτούς', 'Case': 'Accusative', 'Unicode': 'ἑαυτοὺς', 'FormalTag': 'F-2APM', 'nodeId': '650010200050010', 'Gloss': 'yourselves', 'Ref': 'n65001020003'}\",\n",
       " \"Tag/Attributes: Node != Node or {'{http://www.w3.org/XML/1998/namespace}id': 'n65001021001', 'ref': 'JUD 1:21!1', 'Cat': 'pron', 'Start': '13', 'End': '13', 'StrongNumber': '1438', 'UnicodeLemma': 'ἑαυτοῦ', 'Gender': 'Masculine', 'Number': 'Plural', 'FunctionalTag': 'F-2APM', 'Type': 'Personal', 'morphId': '65001021001', 'NormalizedForm': 'ἑαυτούς', 'Case': 'Accusative', 'Unicode': 'ἑαυτοὺς', 'FormalTag': 'F-2APM', 'nodeId': '650010210010010', 'Gloss': 'yourselves', 'Ref': 'n65001020003', 'LexDomain': '092004', 'LN': '92.25'} != {'{http://www.w3.org/XML/1998/namespace}id': 'n65001021001', 'ref': 'JUD 1:21!1', 'Cat': 'pron', 'Start': '13', 'End': '13', 'StrongNumber': '1438', 'UnicodeLemma': 'ἑαυτοῦ', 'Gender': 'Masculine', 'Number': 'Plural', 'FunctionalTag': 'F-2APM', 'Type': 'Personal', 'morphId': '65001021001', 'NormalizedForm': 'ἑαυτούς', 'Case': 'Accusative', 'Unicode': 'ἑαυτοὺς', 'FormalTag': 'F-2APM', 'nodeId': '650010210010010', 'Gloss': 'yourselves', 'Ref': 'n65001020003'}\",\n",
       " \"Tag/Attributes: Node != Node or {'{http://www.w3.org/XML/1998/namespace}id': 'n65001025001', 'ref': 'JUD 1:25!1', 'Cat': 'adj', 'Start': '15', 'End': '15', 'StrongNumber': '3441', 'UnicodeLemma': 'μόνος', 'Gender': 'Masculine', 'Number': 'Singular', 'FunctionalTag': 'A-DSM', 'Type': '', 'morphId': '65001025001', 'NormalizedForm': 'μόνῳ', 'Case': 'Dative', 'Unicode': 'μόνῳ', 'FormalTag': 'A-DSM', 'nodeId': '650010250010010', 'Gloss': 'to [the] only', 'LexDomain': '058007', 'LN': '58.50'} != {'{http://www.w3.org/XML/1998/namespace}id': 'n65001025001', 'ref': 'JUD 1:25!1', 'Cat': 'adj', 'Start': '15', 'End': '15', 'StrongNumber': '3441', 'UnicodeLemma': 'μόνος', 'Gender': 'Masculine', 'Number': 'Singular', 'FunctionalTag': 'A-DSM', 'Type': '', 'morphId': '65001025001', 'NormalizedForm': 'μόνῳ', 'Case': 'Dative', 'Unicode': 'μόνῳ', 'FormalTag': 'A-DSM', 'nodeId': '650010250010010', 'Gloss': 'to [the] only'}\"]"
      ]
     },
     "execution_count": 39,
     "metadata": {},
     "output_type": "execute_result"
    }
   ],
   "source": [
    "import xml.etree.ElementTree as ET\n",
    "\n",
    "def compare_xml_files(file1, file2, details):\n",
    "    # Parse the XML files\n",
    "    tree1 = ET.parse(file1)\n",
    "    tree2 = ET.parse(file2)\n",
    "\n",
    "    # Get the root elements of both trees\n",
    "    root1 = tree1.getroot()\n",
    "    root2 = tree2.getroot()\n",
    "\n",
    "    # Compare the two root elements and their descendants recursively\n",
    "    return compare_elements(root1, root2, details)\n",
    "\n",
    "    if not differences:\n",
    "        print(\"The XML files are identical.\")\n",
    "    else:\n",
    "        print(\"The XML files are different.\")\n",
    "        if details:\n",
    "            for diff in differences:\n",
    "                print(diff)\n",
    "\n",
    "def compare_elements(elem1, elem2, details):\n",
    "    differences = []\n",
    "    ReportTag=ReportElement=ReportChildren=ReportChildDiff=True\n",
    "    \n",
    "    # Compare element tags and attributes\n",
    "    if elem1.tag != elem2.tag or elem1.attrib != elem2.attrib:\n",
    "        if details:\n",
    "            differences.append(f\"Tag/Attributes: {elem1.tag} != {elem2.tag} or {elem1.attrib} != {elem2.attrib}\")\n",
    "        else:\n",
    "            if ReportTag==True:\n",
    "                differences.append(\"Differences in Tag/Attributes found\")\n",
    "                ReportTag=False\n",
    "\n",
    "    # Compare element text\n",
    "    if elem1.text != elem2.text:\n",
    "        if details:\n",
    "            differences.append(f\"Text: {elem1.text} != {elem2.text}\\n\")\n",
    "        else:\n",
    "            if ReportElement==True:\n",
    "                differences.append(\"Differences in element Text found\")\n",
    "                ReportElement=False\n",
    "\n",
    "    # Compare element children recursively\n",
    "    children1 = list(elem1)\n",
    "    children2 = list(elem2)\n",
    "    if len(children1) != len(children2):\n",
    "        if details:\n",
    "            differences.append(f\"Number of Children: {len(children1)} != {len(children2)}\\n\")\n",
    "        else:\n",
    "            if ReportChildren==True:\n",
    "                differences.append(\"Differences in number of children\")\n",
    "                ReportChildren=False    \n",
    "    else:\n",
    "        for child1, child2 in zip(children1, children2):\n",
    "            child_diff = compare_elements(child1, child2, details)\n",
    "            differences.extend(child_diff)\n",
    "            \n",
    "    return differences\n",
    "\n",
    "# this is the main part\n",
    "compare_xml_files(file1_path, file2_path, details)"
   ]
  },
  {
   "cell_type": "code",
   "execution_count": null,
   "id": "f6638381-0020-4157-be97-f45f5ec5ddc7",
   "metadata": {},
   "outputs": [],
   "source": []
  }
 ],
 "metadata": {
  "kernelspec": {
   "display_name": "Python 3 (ipykernel)",
   "language": "python",
   "name": "python3"
  },
  "language_info": {
   "codemirror_mode": {
    "name": "ipython",
    "version": 3
   },
   "file_extension": ".py",
   "mimetype": "text/x-python",
   "name": "python",
   "nbconvert_exporter": "python",
   "pygments_lexer": "ipython3",
   "version": "3.9.12"
  }
 },
 "nbformat": 4,
 "nbformat_minor": 5
}
